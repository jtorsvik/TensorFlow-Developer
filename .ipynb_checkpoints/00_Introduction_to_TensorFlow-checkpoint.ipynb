{
 "cells": [
  {
   "cell_type": "markdown",
   "id": "25d8e8a5",
   "metadata": {},
   "source": [
    "# Tensors\n",
    "\n",
    "Dan Fleisch - What's a Tensor\\\n",
    "https://www.youtube.com/watch?v=f5liqUk0ZTw\n",
    "\n",
    "Computerphile - Multi-dimensional Data (as used in Tensors)\\\n",
    "https://www.youtube.com/watch?v=DfK83xEtJ_k"
   ]
  },
  {
   "cell_type": "code",
   "execution_count": 1,
   "id": "c34a44c1",
   "metadata": {},
   "outputs": [
    {
     "name": "stdout",
     "output_type": "stream",
     "text": [
      "2.8.0\n"
     ]
    }
   ],
   "source": [
    "import tensorflow as tf\n",
    "import numpy as np\n",
    "import pandas as pd\n",
    "print(tf.__version__)"
   ]
  },
  {
   "cell_type": "markdown",
   "id": "1406c7dc",
   "metadata": {},
   "source": [
    "## Creating tensors with tf.constant()\n",
    "\n",
    "https://www.tensorflow.org/api_docs/python/tf/constant"
   ]
  },
  {
   "cell_type": "code",
   "execution_count": 3,
   "id": "c2125901",
   "metadata": {},
   "outputs": [
    {
     "data": {
      "text/plain": [
       "<tf.Tensor: shape=(), dtype=int32, numpy=7>"
      ]
     },
     "execution_count": 3,
     "metadata": {},
     "output_type": "execute_result"
    }
   ],
   "source": [
    "# Create tensors with tf.constant()\n",
    "scalar = tf.constant(7)\n",
    "scalar"
   ]
  },
  {
   "cell_type": "code",
   "execution_count": 4,
   "id": "d929a6b2",
   "metadata": {},
   "outputs": [
    {
     "data": {
      "text/plain": [
       "0"
      ]
     },
     "execution_count": 4,
     "metadata": {},
     "output_type": "execute_result"
    }
   ],
   "source": [
    "# Check the dimensions of a tensor with .ndim\n",
    "scalar.ndim"
   ]
  },
  {
   "cell_type": "code",
   "execution_count": 5,
   "id": "9969ab71",
   "metadata": {},
   "outputs": [
    {
     "data": {
      "text/plain": [
       "<tf.Tensor: shape=(4,), dtype=int32, numpy=array([10,  8,  9,  2])>"
      ]
     },
     "execution_count": 5,
     "metadata": {},
     "output_type": "execute_result"
    }
   ],
   "source": [
    "# Create a vector\n",
    "vector = tf.constant([10, 8, 9, 2])\n",
    "vector"
   ]
  },
  {
   "cell_type": "code",
   "execution_count": 6,
   "id": "8d5efd5b",
   "metadata": {},
   "outputs": [
    {
     "data": {
      "text/plain": [
       "1"
      ]
     },
     "execution_count": 6,
     "metadata": {},
     "output_type": "execute_result"
    }
   ],
   "source": [
    "vector.ndim"
   ]
  },
  {
   "cell_type": "code",
   "execution_count": 16,
   "id": "d85dc53e",
   "metadata": {},
   "outputs": [
    {
     "data": {
      "text/plain": [
       "<tf.Tensor: shape=(3, 2), dtype=int32, numpy=\n",
       "array([[10,  8],\n",
       "       [ 9,  2],\n",
       "       [ 8,  7]])>"
      ]
     },
     "execution_count": 16,
     "metadata": {},
     "output_type": "execute_result"
    }
   ],
   "source": [
    "# Create a matrix\n",
    "matrix = tf.constant([[10, 8], \n",
    "                      [9, 2],\n",
    "                      [8, 7]])\n",
    "matrix"
   ]
  },
  {
   "cell_type": "code",
   "execution_count": 17,
   "id": "2d05dac4",
   "metadata": {},
   "outputs": [
    {
     "data": {
      "text/plain": [
       "2"
      ]
     },
     "execution_count": 17,
     "metadata": {},
     "output_type": "execute_result"
    }
   ],
   "source": [
    "matrix.ndim"
   ]
  },
  {
   "cell_type": "code",
   "execution_count": 20,
   "id": "ddcad709",
   "metadata": {},
   "outputs": [
    {
     "data": {
      "text/plain": [
       "<tf.Tensor: shape=(3, 3), dtype=float32, numpy=\n",
       "array([[10. ,  8. ,  2.2],\n",
       "       [ 9. ,  2. ,  3.1],\n",
       "       [ 8. ,  7. ,  1.9]], dtype=float32)>"
      ]
     },
     "execution_count": 20,
     "metadata": {},
     "output_type": "execute_result"
    }
   ],
   "source": [
    "# Create a matrix\n",
    "new_matrix = tf.constant([[10., 8., 2.2], \n",
    "                          [9., 2., 3.1],\n",
    "                          [8., 7., 1.9]])\n",
    "new_matrix"
   ]
  },
  {
   "cell_type": "code",
   "execution_count": 21,
   "id": "2bab8523",
   "metadata": {},
   "outputs": [
    {
     "data": {
      "text/plain": [
       "2"
      ]
     },
     "execution_count": 21,
     "metadata": {},
     "output_type": "execute_result"
    }
   ],
   "source": [
    "new_matrix.ndim"
   ]
  },
  {
   "cell_type": "code",
   "execution_count": 22,
   "id": "e5995363",
   "metadata": {},
   "outputs": [
    {
     "data": {
      "text/plain": [
       "<tf.Tensor: shape=(3, 2, 3), dtype=int32, numpy=\n",
       "array([[[ 1,  2,  3],\n",
       "        [ 4,  5,  6]],\n",
       "\n",
       "       [[ 7,  8,  9],\n",
       "        [10, 11, 12]],\n",
       "\n",
       "       [[13, 14, 15],\n",
       "        [16, 17, 18]]])>"
      ]
     },
     "execution_count": 22,
     "metadata": {},
     "output_type": "execute_result"
    }
   ],
   "source": [
    "tensor = tf.constant([[[1, 2, 3],\n",
    "                       [4, 5, 6]], \n",
    "                      [[7, 8, 9],\n",
    "                       [10, 11, 12]],\n",
    "                      [[13, 14, 15],\n",
    "                       [16, 17, 18]]])\n",
    "tensor"
   ]
  },
  {
   "cell_type": "code",
   "execution_count": 23,
   "id": "00963611",
   "metadata": {},
   "outputs": [
    {
     "data": {
      "text/plain": [
       "3"
      ]
     },
     "execution_count": 23,
     "metadata": {},
     "output_type": "execute_result"
    }
   ],
   "source": [
    "tensor.ndim"
   ]
  },
  {
   "cell_type": "markdown",
   "id": "c9215da8",
   "metadata": {},
   "source": [
    "What we've created so far:\n",
    "\n",
    "* Scalar : a single number\n",
    "* Vector : a number with direction (e.g. wind speed, direction)\n",
    "* Matrix : a 2-dimensional array of numbers\n",
    "* Tensor : a n-dimensional array of numbers\n",
    "\n",
    "0-dimensional tensor == a scalar\\\n",
    "1-dim tensor == a vector\\\n",
    "2-dim tensor == a matrix\\\n",
    "\\>2-dim tensor == tensor"
   ]
  },
  {
   "cell_type": "markdown",
   "id": "4b1f9045",
   "metadata": {},
   "source": [
    "## Creating tensors with tf.Variable()\n",
    "\n",
    "https://www.tensorflow.org/api_docs/python/tf/Variable"
   ]
  },
  {
   "cell_type": "code",
   "execution_count": 25,
   "id": "200debf7",
   "metadata": {},
   "outputs": [
    {
     "data": {
      "text/plain": [
       "(<tf.Variable 'Variable:0' shape=(2,) dtype=int32, numpy=array([10,  7])>,\n",
       " <tf.Tensor: shape=(2,), dtype=int32, numpy=array([10,  7])>)"
      ]
     },
     "execution_count": 25,
     "metadata": {},
     "output_type": "execute_result"
    }
   ],
   "source": [
    "# Create the same tensor as in tf.constant()\n",
    "changeable_tensor = tf.Variable([10, 7])\n",
    "unchangeable_tensor = tf.constant([10, 7])\n",
    "\n",
    "changeable_tensor, unchangeable_tensor"
   ]
  },
  {
   "cell_type": "code",
   "execution_count": 30,
   "id": "705a6419",
   "metadata": {},
   "outputs": [
    {
     "data": {
      "text/plain": [
       "<tf.Variable 'Variable:0' shape=(2,) dtype=int32, numpy=array([7, 7])>"
      ]
     },
     "execution_count": 30,
     "metadata": {},
     "output_type": "execute_result"
    }
   ],
   "source": [
    "# # Changing a variable in the tensor\n",
    "#changeable_tensor[0] = 7\n",
    "\n",
    "# That didn't work. Now try using .assign()\n",
    "\n",
    "changeable_tensor[0].assign(7)\n",
    "\n",
    "changeable_tensor"
   ]
  },
  {
   "cell_type": "code",
   "execution_count": 31,
   "id": "82d95c6d",
   "metadata": {},
   "outputs": [
    {
     "ename": "AttributeError",
     "evalue": "'tensorflow.python.framework.ops.EagerTensor' object has no attribute 'assign'",
     "output_type": "error",
     "traceback": [
      "\u001b[1;31m---------------------------------------------------------------------------\u001b[0m",
      "\u001b[1;31mAttributeError\u001b[0m                            Traceback (most recent call last)",
      "\u001b[1;32mC:\\Users\\JOAKIM~1\\AppData\\Local\\Temp/ipykernel_13872/696683186.py\u001b[0m in \u001b[0;36m<module>\u001b[1;34m\u001b[0m\n\u001b[1;32m----> 1\u001b[1;33m \u001b[0munchangeable_tensor\u001b[0m\u001b[1;33m[\u001b[0m\u001b[1;36m0\u001b[0m\u001b[1;33m]\u001b[0m\u001b[1;33m.\u001b[0m\u001b[0massign\u001b[0m\u001b[1;33m(\u001b[0m\u001b[1;36m7\u001b[0m\u001b[1;33m)\u001b[0m\u001b[1;33m\u001b[0m\u001b[1;33m\u001b[0m\u001b[0m\n\u001b[0m",
      "\u001b[1;32m~\\anaconda3\\lib\\site-packages\\tensorflow\\python\\framework\\ops.py\u001b[0m in \u001b[0;36m__getattr__\u001b[1;34m(self, name)\u001b[0m\n\u001b[0;32m    511\u001b[0m         \u001b[1;32mfrom\u001b[0m \u001b[0mtensorflow\u001b[0m\u001b[1;33m.\u001b[0m\u001b[0mpython\u001b[0m\u001b[1;33m.\u001b[0m\u001b[0mops\u001b[0m\u001b[1;33m.\u001b[0m\u001b[0mnumpy_ops\u001b[0m \u001b[1;32mimport\u001b[0m \u001b[0mnp_config\u001b[0m\u001b[1;33m\u001b[0m\u001b[1;33m\u001b[0m\u001b[0m\n\u001b[0;32m    512\u001b[0m         np_config.enable_numpy_behavior()\"\"\".format(type(self).__name__, name))\n\u001b[1;32m--> 513\u001b[1;33m     \u001b[0mself\u001b[0m\u001b[1;33m.\u001b[0m\u001b[0m__getattribute__\u001b[0m\u001b[1;33m(\u001b[0m\u001b[0mname\u001b[0m\u001b[1;33m)\u001b[0m\u001b[1;33m\u001b[0m\u001b[1;33m\u001b[0m\u001b[0m\n\u001b[0m\u001b[0;32m    514\u001b[0m \u001b[1;33m\u001b[0m\u001b[0m\n\u001b[0;32m    515\u001b[0m   \u001b[1;33m@\u001b[0m\u001b[0mstaticmethod\u001b[0m\u001b[1;33m\u001b[0m\u001b[1;33m\u001b[0m\u001b[0m\n",
      "\u001b[1;31mAttributeError\u001b[0m: 'tensorflow.python.framework.ops.EagerTensor' object has no attribute 'assign'"
     ]
    }
   ],
   "source": [
    "unchangeable_tensor[0].assign(7)"
   ]
  },
  {
   "cell_type": "markdown",
   "id": "a0c2dabd",
   "metadata": {},
   "source": [
    "## Creating random Tensors"
   ]
  },
  {
   "cell_type": "code",
   "execution_count": 43,
   "id": "ac3eba56",
   "metadata": {},
   "outputs": [
    {
     "data": {
      "text/plain": [
       "<tf.Tensor: shape=(3, 2, 3), dtype=float32, numpy=\n",
       "array([[[ 0.4604257 ,  0.514933  , -0.06519881],\n",
       "        [-1.442522  , -0.48492542, -1.8364043 ]],\n",
       "\n",
       "       [[ 0.91463274,  0.5145402 ,  0.5517507 ],\n",
       "        [-0.3741098 , -0.28709963,  1.5089895 ]],\n",
       "\n",
       "       [[-0.14833727, -1.2846565 ,  0.5484313 ],\n",
       "        [ 0.10596129,  0.21793836,  0.7063839 ]]], dtype=float32)>"
      ]
     },
     "execution_count": 43,
     "metadata": {},
     "output_type": "execute_result"
    }
   ],
   "source": [
    "random_1 = tf.random.Generator.from_seed(64)\n",
    "random_1 = random_1.normal(shape=(3, 2, 3))\n",
    "random_1"
   ]
  },
  {
   "cell_type": "code",
   "execution_count": 42,
   "id": "63346cb1",
   "metadata": {},
   "outputs": [
    {
     "data": {
      "text/plain": [
       "<tf.Tensor: shape=(3, 3, 3), dtype=float32, numpy=\n",
       "array([[[0.7877505 , 0.11611497, 0.35255086],\n",
       "        [0.50718856, 0.16467738, 0.54108894],\n",
       "        [0.5765736 , 0.16844285, 0.8007604 ]],\n",
       "\n",
       "       [[0.34483027, 0.30735934, 0.9700769 ],\n",
       "        [0.43336582, 0.51829636, 0.8555572 ],\n",
       "        [0.21962428, 0.76091194, 0.04762888]],\n",
       "\n",
       "       [[0.5131633 , 0.97339594, 0.33341944],\n",
       "        [0.03152311, 0.28874612, 0.58736026],\n",
       "        [0.75669694, 0.7060174 , 0.5588795 ]]], dtype=float32)>"
      ]
     },
     "execution_count": 42,
     "metadata": {},
     "output_type": "execute_result"
    }
   ],
   "source": [
    "random_2 = tf.random.Generator.from_seed(64)\n",
    "random_2 = random_2.uniform(shape=(3,3,3))\n",
    "random_2"
   ]
  },
  {
   "cell_type": "markdown",
   "id": "c36c518b",
   "metadata": {},
   "source": [
    "## Shuffle a tensor\n",
    "\n",
    "https://www.tensorflow.org/api_docs/python/tf/random/set_seed"
   ]
  },
  {
   "cell_type": "code",
   "execution_count": 45,
   "id": "9ffb2f6b",
   "metadata": {},
   "outputs": [],
   "source": [
    "not_shuffled = tf.constant([[1, 2],\n",
    "                            [3, 4],\n",
    "                            [5, 6],\n",
    "                            [7, 8]])"
   ]
  },
  {
   "cell_type": "code",
   "execution_count": 82,
   "id": "9370347e",
   "metadata": {},
   "outputs": [
    {
     "data": {
      "text/plain": [
       "<tf.Tensor: shape=(4, 2), dtype=int32, numpy=\n",
       "array([[7, 8],\n",
       "       [1, 2],\n",
       "       [5, 6],\n",
       "       [3, 4]])>"
      ]
     },
     "execution_count": 82,
     "metadata": {},
     "output_type": "execute_result"
    }
   ],
   "source": [
    "tf.random.set_seed(64)\n",
    "random_shuffle = tf.random.shuffle(not_shuffled)\n",
    "random_shuffle"
   ]
  },
  {
   "cell_type": "code",
   "execution_count": 100,
   "id": "c2dd2806",
   "metadata": {},
   "outputs": [
    {
     "data": {
      "text/plain": [
       "<tf.Tensor: shape=(3, 3, 3), dtype=float32, numpy=\n",
       "array([[[0.5131633 , 0.97339594, 0.33341944],\n",
       "        [0.03152311, 0.28874612, 0.58736026],\n",
       "        [0.75669694, 0.7060174 , 0.5588795 ]],\n",
       "\n",
       "       [[0.34483027, 0.30735934, 0.9700769 ],\n",
       "        [0.43336582, 0.51829636, 0.8555572 ],\n",
       "        [0.21962428, 0.76091194, 0.04762888]],\n",
       "\n",
       "       [[0.7877505 , 0.11611497, 0.35255086],\n",
       "        [0.50718856, 0.16467738, 0.54108894],\n",
       "        [0.5765736 , 0.16844285, 0.8007604 ]]], dtype=float32)>"
      ]
     },
     "execution_count": 100,
     "metadata": {},
     "output_type": "execute_result"
    }
   ],
   "source": [
    "tf.random.shuffle(random_2)"
   ]
  },
  {
   "cell_type": "markdown",
   "id": "734b5cf4",
   "metadata": {},
   "source": [
    "## Create a tensor array from NumPy arrays"
   ]
  },
  {
   "cell_type": "code",
   "execution_count": 2,
   "id": "0317a037",
   "metadata": {},
   "outputs": [
    {
     "data": {
      "text/plain": [
       "<tf.Tensor: shape=(10, 7), dtype=float32, numpy=\n",
       "array([[1., 1., 1., 1., 1., 1., 1.],\n",
       "       [1., 1., 1., 1., 1., 1., 1.],\n",
       "       [1., 1., 1., 1., 1., 1., 1.],\n",
       "       [1., 1., 1., 1., 1., 1., 1.],\n",
       "       [1., 1., 1., 1., 1., 1., 1.],\n",
       "       [1., 1., 1., 1., 1., 1., 1.],\n",
       "       [1., 1., 1., 1., 1., 1., 1.],\n",
       "       [1., 1., 1., 1., 1., 1., 1.],\n",
       "       [1., 1., 1., 1., 1., 1., 1.],\n",
       "       [1., 1., 1., 1., 1., 1., 1.]], dtype=float32)>"
      ]
     },
     "execution_count": 2,
     "metadata": {},
     "output_type": "execute_result"
    }
   ],
   "source": [
    "# Create Tensor of all ones\n",
    "tf.ones([10, 7])"
   ]
  },
  {
   "cell_type": "code",
   "execution_count": 3,
   "id": "7fb70287",
   "metadata": {},
   "outputs": [
    {
     "data": {
      "text/plain": [
       "<tf.Tensor: shape=(3, 4), dtype=float32, numpy=\n",
       "array([[0., 0., 0., 0.],\n",
       "       [0., 0., 0., 0.],\n",
       "       [0., 0., 0., 0.]], dtype=float32)>"
      ]
     },
     "execution_count": 3,
     "metadata": {},
     "output_type": "execute_result"
    }
   ],
   "source": [
    "# Create a tensor of all zeroes\n",
    "tf.zeros(shape=(3, 4))"
   ]
  },
  {
   "cell_type": "code",
   "execution_count": 11,
   "id": "9e33476c",
   "metadata": {},
   "outputs": [
    {
     "data": {
      "text/plain": [
       "<tf.Tensor: shape=(24,), dtype=int32, numpy=\n",
       "array([ 1,  2,  3,  4,  5,  6,  7,  8,  9, 10, 11, 12, 13, 14, 15, 16, 17,\n",
       "       18, 19, 20, 21, 22, 23, 24])>"
      ]
     },
     "execution_count": 11,
     "metadata": {},
     "output_type": "execute_result"
    }
   ],
   "source": [
    "# Creating a tensor of a NumPy Array\n",
    "np_a = np.arange(1, 25, dtype=np.int32)\n",
    "\n",
    "tf_a = tf.constant(np_a)\n",
    "tf_a"
   ]
  },
  {
   "cell_type": "code",
   "execution_count": 12,
   "id": "bd3ea170",
   "metadata": {},
   "outputs": [
    {
     "data": {
      "text/plain": [
       "<tf.Tensor: shape=(2, 3, 4), dtype=int32, numpy=\n",
       "array([[[ 1,  2,  3,  4],\n",
       "        [ 5,  6,  7,  8],\n",
       "        [ 9, 10, 11, 12]],\n",
       "\n",
       "       [[13, 14, 15, 16],\n",
       "        [17, 18, 19, 20],\n",
       "        [21, 22, 23, 24]]])>"
      ]
     },
     "execution_count": 12,
     "metadata": {},
     "output_type": "execute_result"
    }
   ],
   "source": [
    "tf_b = tf.constant(np_a, shape=(2,3,4))\n",
    "tf_b"
   ]
  },
  {
   "cell_type": "code",
   "execution_count": 14,
   "id": "3e7f1d4e",
   "metadata": {},
   "outputs": [
    {
     "data": {
      "text/plain": [
       "<tf.Tensor: shape=(3, 8), dtype=int32, numpy=\n",
       "array([[ 1,  2,  3,  4,  5,  6,  7,  8],\n",
       "       [ 9, 10, 11, 12, 13, 14, 15, 16],\n",
       "       [17, 18, 19, 20, 21, 22, 23, 24]])>"
      ]
     },
     "execution_count": 14,
     "metadata": {},
     "output_type": "execute_result"
    }
   ],
   "source": [
    "tf_c = tf.constant(np_a, shape=(3,8))\n",
    "tf_c"
   ]
  },
  {
   "cell_type": "code",
   "execution_count": 16,
   "id": "89e77a8b",
   "metadata": {},
   "outputs": [
    {
     "data": {
      "text/plain": [
       "<tf.Tensor: shape=(6, 4), dtype=int32, numpy=\n",
       "array([[ 1,  2,  3,  4],\n",
       "       [ 5,  6,  7,  8],\n",
       "       [ 9, 10, 11, 12],\n",
       "       [13, 14, 15, 16],\n",
       "       [17, 18, 19, 20],\n",
       "       [21, 22, 23, 24]])>"
      ]
     },
     "execution_count": 16,
     "metadata": {},
     "output_type": "execute_result"
    }
   ],
   "source": [
    "tf_d = tf.constant(np_a, shape=(6, 4))\n",
    "tf_d"
   ]
  },
  {
   "cell_type": "markdown",
   "id": "e3e3cdb5",
   "metadata": {},
   "source": [
    "## Getting info from a tensor array\n",
    "\n",
    "* Shape\n",
    "* Rank\n",
    "* Axis or dims\n",
    "* Size"
   ]
  },
  {
   "cell_type": "code",
   "execution_count": 17,
   "id": "a093a946",
   "metadata": {},
   "outputs": [
    {
     "data": {
      "text/plain": [
       "TensorShape([6, 4])"
      ]
     },
     "execution_count": 17,
     "metadata": {},
     "output_type": "execute_result"
    }
   ],
   "source": [
    "tf_d.shape"
   ]
  },
  {
   "cell_type": "code",
   "execution_count": 24,
   "id": "26d6dff6",
   "metadata": {},
   "outputs": [
    {
     "data": {
      "text/plain": [
       "<tf.Tensor: shape=(2, 3, 4, 5), dtype=float32, numpy=\n",
       "array([[[[0., 0., 0., 0., 0.],\n",
       "         [0., 0., 0., 0., 0.],\n",
       "         [0., 0., 0., 0., 0.],\n",
       "         [0., 0., 0., 0., 0.]],\n",
       "\n",
       "        [[0., 0., 0., 0., 0.],\n",
       "         [0., 0., 0., 0., 0.],\n",
       "         [0., 0., 0., 0., 0.],\n",
       "         [0., 0., 0., 0., 0.]],\n",
       "\n",
       "        [[0., 0., 0., 0., 0.],\n",
       "         [0., 0., 0., 0., 0.],\n",
       "         [0., 0., 0., 0., 0.],\n",
       "         [0., 0., 0., 0., 0.]]],\n",
       "\n",
       "\n",
       "       [[[0., 0., 0., 0., 0.],\n",
       "         [0., 0., 0., 0., 0.],\n",
       "         [0., 0., 0., 0., 0.],\n",
       "         [0., 0., 0., 0., 0.]],\n",
       "\n",
       "        [[0., 0., 0., 0., 0.],\n",
       "         [0., 0., 0., 0., 0.],\n",
       "         [0., 0., 0., 0., 0.],\n",
       "         [0., 0., 0., 0., 0.]],\n",
       "\n",
       "        [[0., 0., 0., 0., 0.],\n",
       "         [0., 0., 0., 0., 0.],\n",
       "         [0., 0., 0., 0., 0.],\n",
       "         [0., 0., 0., 0., 0.]]]], dtype=float32)>"
      ]
     },
     "execution_count": 24,
     "metadata": {},
     "output_type": "execute_result"
    }
   ],
   "source": [
    "rank_4_tensor = tf.zeros(shape=[2, 3, 4, 5])\n",
    "rank_4_tensor"
   ]
  },
  {
   "cell_type": "code",
   "execution_count": 25,
   "id": "d23a0de0",
   "metadata": {},
   "outputs": [
    {
     "data": {
      "text/plain": [
       "<tf.Tensor: shape=(3, 4, 5), dtype=float32, numpy=\n",
       "array([[[0., 0., 0., 0., 0.],\n",
       "        [0., 0., 0., 0., 0.],\n",
       "        [0., 0., 0., 0., 0.],\n",
       "        [0., 0., 0., 0., 0.]],\n",
       "\n",
       "       [[0., 0., 0., 0., 0.],\n",
       "        [0., 0., 0., 0., 0.],\n",
       "        [0., 0., 0., 0., 0.],\n",
       "        [0., 0., 0., 0., 0.]],\n",
       "\n",
       "       [[0., 0., 0., 0., 0.],\n",
       "        [0., 0., 0., 0., 0.],\n",
       "        [0., 0., 0., 0., 0.],\n",
       "        [0., 0., 0., 0., 0.]]], dtype=float32)>"
      ]
     },
     "execution_count": 25,
     "metadata": {},
     "output_type": "execute_result"
    }
   ],
   "source": [
    "rank_4_tensor[0]"
   ]
  },
  {
   "cell_type": "code",
   "execution_count": 26,
   "id": "d7351959",
   "metadata": {},
   "outputs": [
    {
     "data": {
      "text/plain": [
       "4"
      ]
     },
     "execution_count": 26,
     "metadata": {},
     "output_type": "execute_result"
    }
   ],
   "source": [
    "rank_4_tensor.ndim"
   ]
  },
  {
   "cell_type": "markdown",
   "id": "88719c0c",
   "metadata": {},
   "source": [
    "4 dims == [2, 3, 4, 5]"
   ]
  },
  {
   "cell_type": "code",
   "execution_count": 23,
   "id": "cf52ddbc",
   "metadata": {},
   "outputs": [
    {
     "data": {
      "text/plain": [
       "<tf.Tensor: shape=(), dtype=int32, numpy=24>"
      ]
     },
     "execution_count": 23,
     "metadata": {},
     "output_type": "execute_result"
    }
   ],
   "source": [
    "tf.size(tf_a)"
   ]
  },
  {
   "cell_type": "markdown",
   "id": "ba697414",
   "metadata": {},
   "source": [
    "## Indexing and expanding tensors"
   ]
  },
  {
   "cell_type": "code",
   "execution_count": 27,
   "id": "6f426e96",
   "metadata": {},
   "outputs": [
    {
     "data": {
      "text/plain": [
       "<tf.Tensor: shape=(2, 2, 2, 2), dtype=float32, numpy=\n",
       "array([[[[0., 0.],\n",
       "         [0., 0.]],\n",
       "\n",
       "        [[0., 0.],\n",
       "         [0., 0.]]],\n",
       "\n",
       "\n",
       "       [[[0., 0.],\n",
       "         [0., 0.]],\n",
       "\n",
       "        [[0., 0.],\n",
       "         [0., 0.]]]], dtype=float32)>"
      ]
     },
     "execution_count": 27,
     "metadata": {},
     "output_type": "execute_result"
    }
   ],
   "source": [
    "rank_4_tensor[:2, :2, :2, :2]"
   ]
  },
  {
   "cell_type": "code",
   "execution_count": 36,
   "id": "7f8b882b",
   "metadata": {},
   "outputs": [
    {
     "data": {
      "text/plain": [
       "<tf.Tensor: shape=(1, 1, 4, 1), dtype=float32, numpy=\n",
       "array([[[[0.],\n",
       "         [0.],\n",
       "         [0.],\n",
       "         [0.]]]], dtype=float32)>"
      ]
     },
     "execution_count": 36,
     "metadata": {},
     "output_type": "execute_result"
    }
   ],
   "source": [
    "# Get the first element of each dimension, except from the final one\n",
    "\n",
    "rank_4_tensor[:1, :1, :, :1]"
   ]
  },
  {
   "cell_type": "code",
   "execution_count": 37,
   "id": "7fa897a9",
   "metadata": {},
   "outputs": [
    {
     "data": {
      "text/plain": [
       "(TensorShape([2, 2]), 2)"
      ]
     },
     "execution_count": 37,
     "metadata": {},
     "output_type": "execute_result"
    }
   ],
   "source": [
    "rank_2_tensor = tf.constant([[10, 7],\n",
    "                             [3, 4]])\n",
    "rank_2_tensor.shape, rank_2_tensor.ndim"
   ]
  },
  {
   "cell_type": "code",
   "execution_count": 39,
   "id": "6ff2e4a8",
   "metadata": {},
   "outputs": [
    {
     "data": {
      "text/plain": [
       "<tf.Tensor: shape=(2, 2, 1), dtype=int32, numpy=\n",
       "array([[[10],\n",
       "        [ 7]],\n",
       "\n",
       "       [[ 3],\n",
       "        [ 4]]])>"
      ]
     },
     "execution_count": 39,
     "metadata": {},
     "output_type": "execute_result"
    }
   ],
   "source": [
    "rank_3_tensor = rank_2_tensor[..., tf.newaxis]\n",
    "rank_3_tensor"
   ]
  },
  {
   "cell_type": "markdown",
   "id": "a3082eac",
   "metadata": {},
   "source": [
    "Expanding the number of dimensions with tf.expand_dims()\\\n",
    "https://www.tensorflow.org/api_docs/python/tf/expand_dims"
   ]
  },
  {
   "cell_type": "code",
   "execution_count": 40,
   "id": "72cb6436",
   "metadata": {},
   "outputs": [
    {
     "data": {
      "text/plain": [
       "<tf.Tensor: shape=(2, 2, 1), dtype=int32, numpy=\n",
       "array([[[10],\n",
       "        [ 7]],\n",
       "\n",
       "       [[ 3],\n",
       "        [ 4]]])>"
      ]
     },
     "execution_count": 40,
     "metadata": {},
     "output_type": "execute_result"
    }
   ],
   "source": [
    "tf.expand_dims(rank_2_tensor, axis=-1) # -1 means expand the final axis"
   ]
  },
  {
   "cell_type": "markdown",
   "id": "6aca424f",
   "metadata": {},
   "source": [
    "## Manipulating tensors\n",
    "\n",
    "**Basic Operations**\n",
    "\n",
    "`+`, `-`, `*`, `/`"
   ]
  },
  {
   "cell_type": "code",
   "execution_count": 41,
   "id": "c1c334b5",
   "metadata": {},
   "outputs": [
    {
     "data": {
      "text/plain": [
       "<tf.Tensor: shape=(2, 2), dtype=int32, numpy=\n",
       "array([[20, 17],\n",
       "       [13, 14]])>"
      ]
     },
     "execution_count": 41,
     "metadata": {},
     "output_type": "execute_result"
    }
   ],
   "source": [
    "tensor = tf.constant([[10, 7], [3, 4]])\n",
    "tensor + 10"
   ]
  },
  {
   "cell_type": "code",
   "execution_count": 42,
   "id": "e196fd73",
   "metadata": {},
   "outputs": [
    {
     "data": {
      "text/plain": [
       "<tf.Tensor: shape=(2, 2), dtype=int32, numpy=\n",
       "array([[100,  70],\n",
       "       [ 30,  40]])>"
      ]
     },
     "execution_count": 42,
     "metadata": {},
     "output_type": "execute_result"
    }
   ],
   "source": [
    "tensor * 10"
   ]
  },
  {
   "cell_type": "code",
   "execution_count": 43,
   "id": "ba5c7bc1",
   "metadata": {},
   "outputs": [
    {
     "data": {
      "text/plain": [
       "<tf.Tensor: shape=(2, 2), dtype=int32, numpy=\n",
       "array([[ 0, -3],\n",
       "       [-7, -6]])>"
      ]
     },
     "execution_count": 43,
     "metadata": {},
     "output_type": "execute_result"
    }
   ],
   "source": [
    "tensor - 10"
   ]
  },
  {
   "cell_type": "code",
   "execution_count": 44,
   "id": "853014ae",
   "metadata": {},
   "outputs": [
    {
     "data": {
      "text/plain": [
       "<tf.Tensor: shape=(2, 2), dtype=float64, numpy=\n",
       "array([[5. , 3.5],\n",
       "       [1.5, 2. ]])>"
      ]
     },
     "execution_count": 44,
     "metadata": {},
     "output_type": "execute_result"
    }
   ],
   "source": [
    "tensor / 2"
   ]
  },
  {
   "cell_type": "code",
   "execution_count": 46,
   "id": "3951ce71",
   "metadata": {},
   "outputs": [
    {
     "data": {
      "text/plain": [
       "<tf.Tensor: shape=(2, 2), dtype=int32, numpy=\n",
       "array([[100,  70],\n",
       "       [ 30,  40]])>"
      ]
     },
     "execution_count": 46,
     "metadata": {},
     "output_type": "execute_result"
    }
   ],
   "source": [
    "# Typically, tensorflow runs faster when tf functions are used to calculate rather than the functions above\n",
    "tf.multiply(tensor, 10)"
   ]
  },
  {
   "cell_type": "code",
   "execution_count": 47,
   "id": "2d7ccf25",
   "metadata": {},
   "outputs": [
    {
     "data": {
      "text/plain": [
       "<tf.Tensor: shape=(2, 2), dtype=int32, numpy=\n",
       "array([[100,  70],\n",
       "       [ 30,  40]])>"
      ]
     },
     "execution_count": 47,
     "metadata": {},
     "output_type": "execute_result"
    }
   ],
   "source": [
    "# Most math functions are stored in tf.math\n",
    "tf.math.multiply(tensor, 10)"
   ]
  },
  {
   "cell_type": "markdown",
   "id": "51826a39",
   "metadata": {},
   "source": [
    "## Matrix Multiplication with tensors\n",
    "\n",
    "1. To multiply matrices, the inner dimensions must match\\\n",
    "        e.g.: In multiplication of two matrices (x, y) * (a, b), y and a must have the same dimensions\n",
    "        \n",
    "2. When multiplying the matrices, the outer dimensions will take the shape of the new matrix.\\\n",
    "        e.g.: When multiplying these two matrices (x, y) * (a, b), the new shape will be (x, b)"
   ]
  },
  {
   "cell_type": "code",
   "execution_count": 49,
   "id": "e9880191",
   "metadata": {},
   "outputs": [
    {
     "data": {
      "text/plain": [
       "<tf.Tensor: shape=(2, 2), dtype=int32, numpy=\n",
       "array([[121,  98],\n",
       "       [ 42,  37]])>"
      ]
     },
     "execution_count": 49,
     "metadata": {},
     "output_type": "execute_result"
    }
   ],
   "source": [
    "# Matrix multiplication in tensorflow\n",
    "tf.matmul(tensor, tensor)"
   ]
  },
  {
   "cell_type": "code",
   "execution_count": 62,
   "id": "14397b65",
   "metadata": {},
   "outputs": [],
   "source": [
    "# Create a (3, 2) tensor\n",
    "x = tf.constant([[1, 2],\n",
    "                 [3, 4],\n",
    "                 [5, 6]])\n",
    "\n",
    "# Another (3, 2) tensor\n",
    "y = tf.constant([[7, 8],\n",
    "                 [9, 10],\n",
    "                 [11, 12]])\n",
    "\n",
    "# tf.matmul(x, y)"
   ]
  },
  {
   "cell_type": "code",
   "execution_count": 65,
   "id": "80e19940",
   "metadata": {},
   "outputs": [
    {
     "data": {
      "text/plain": [
       "<tf.Tensor: shape=(3, 3), dtype=int32, numpy=\n",
       "array([[ 27,  30,  33],\n",
       "       [ 61,  68,  75],\n",
       "       [ 95, 106, 117]])>"
      ]
     },
     "execution_count": 65,
     "metadata": {},
     "output_type": "execute_result"
    }
   ],
   "source": [
    "y_reshaped = tf.reshape(y, shape=(2, 3))\n",
    "\n",
    "tf.matmul(x, y_reshaped)"
   ]
  },
  {
   "cell_type": "code",
   "execution_count": 67,
   "id": "baf1d9cc",
   "metadata": {},
   "outputs": [
    {
     "data": {
      "text/plain": [
       "<tf.Tensor: shape=(3, 3), dtype=int32, numpy=\n",
       "array([[ 23,  29,  35],\n",
       "       [ 53,  67,  81],\n",
       "       [ 83, 105, 127]])>"
      ]
     },
     "execution_count": 67,
     "metadata": {},
     "output_type": "execute_result"
    }
   ],
   "source": [
    "y_transposed = tf.transpose(y)\n",
    "\n",
    "tf.matmul(x, y_transposed)"
   ]
  },
  {
   "cell_type": "code",
   "execution_count": 68,
   "id": "bbae2a67",
   "metadata": {},
   "outputs": [
    {
     "data": {
      "text/plain": [
       "<tf.Tensor: shape=(2, 2), dtype=int32, numpy=\n",
       "array([[ 89,  98],\n",
       "       [116, 128]])>"
      ]
     },
     "execution_count": 68,
     "metadata": {},
     "output_type": "execute_result"
    }
   ],
   "source": [
    "tf.matmul(tf.transpose(x), y)"
   ]
  },
  {
   "cell_type": "markdown",
   "id": "607f5a42",
   "metadata": {},
   "source": [
    "Why does matrices work like this?\n",
    "https://www.mathsisfun.com/algebra/matrix-multiplying.html\n",
    "\n",
    "\n",
    "#### The dot product\n",
    "\n",
    "Matrix multiplication is also referred to as the dot product.\n",
    "\n",
    "You can preform matrix multiplications with both:\n",
    "* `tf.matmul()`\n",
    "* `tf.tensordot()`"
   ]
  },
  {
   "cell_type": "code",
   "execution_count": 70,
   "id": "98c7a0e5",
   "metadata": {},
   "outputs": [
    {
     "data": {
      "text/plain": [
       "<tf.Tensor: shape=(2, 2), dtype=int32, numpy=\n",
       "array([[ 89,  98],\n",
       "       [116, 128]])>"
      ]
     },
     "execution_count": 70,
     "metadata": {},
     "output_type": "execute_result"
    }
   ],
   "source": [
    "tf.tensordot(tf.transpose(x), y, axes=1)"
   ]
  },
  {
   "cell_type": "code",
   "execution_count": 74,
   "id": "a9da30c7",
   "metadata": {},
   "outputs": [
    {
     "data": {
      "text/plain": [
       "<tf.Tensor: shape=(3, 3), dtype=int32, numpy=\n",
       "array([[ 23,  29,  35],\n",
       "       [ 53,  67,  81],\n",
       "       [ 83, 105, 127]])>"
      ]
     },
     "execution_count": 74,
     "metadata": {},
     "output_type": "execute_result"
    }
   ],
   "source": [
    "tf.tensordot(x, tf.transpose(y), axes=1)"
   ]
  },
  {
   "cell_type": "code",
   "execution_count": 72,
   "id": "97ecb40b",
   "metadata": {},
   "outputs": [
    {
     "data": {
      "text/plain": [
       "<tf.Tensor: shape=(3, 2, 3, 2), dtype=int32, numpy=\n",
       "array([[[[ 7,  8],\n",
       "         [ 9, 10],\n",
       "         [11, 12]],\n",
       "\n",
       "        [[14, 16],\n",
       "         [18, 20],\n",
       "         [22, 24]]],\n",
       "\n",
       "\n",
       "       [[[21, 24],\n",
       "         [27, 30],\n",
       "         [33, 36]],\n",
       "\n",
       "        [[28, 32],\n",
       "         [36, 40],\n",
       "         [44, 48]]],\n",
       "\n",
       "\n",
       "       [[[35, 40],\n",
       "         [45, 50],\n",
       "         [55, 60]],\n",
       "\n",
       "        [[42, 48],\n",
       "         [54, 60],\n",
       "         [66, 72]]]])>"
      ]
     },
     "execution_count": 72,
     "metadata": {},
     "output_type": "execute_result"
    }
   ],
   "source": [
    "tf.tensordot(x, y, axes=0)"
   ]
  },
  {
   "cell_type": "markdown",
   "id": "6fb6bd89",
   "metadata": {},
   "source": [
    "## Changing the datatype of tensors"
   ]
  },
  {
   "cell_type": "code",
   "execution_count": 75,
   "id": "84d1bc9e",
   "metadata": {},
   "outputs": [
    {
     "data": {
      "text/plain": [
       "tf.float32"
      ]
     },
     "execution_count": 75,
     "metadata": {},
     "output_type": "execute_result"
    }
   ],
   "source": [
    "# Create a new tensor with a default datatype (float32)\n",
    "A = tf.constant([1.7, 7.5])\n",
    "A.dtype"
   ]
  },
  {
   "cell_type": "code",
   "execution_count": 76,
   "id": "091e82e2",
   "metadata": {},
   "outputs": [
    {
     "data": {
      "text/plain": [
       "tf.int32"
      ]
     },
     "execution_count": 76,
     "metadata": {},
     "output_type": "execute_result"
    }
   ],
   "source": [
    "B = tf.constant([7, 10])\n",
    "B.dtype"
   ]
  },
  {
   "cell_type": "code",
   "execution_count": 77,
   "id": "a7054ef1",
   "metadata": {},
   "outputs": [
    {
     "data": {
      "text/plain": [
       "tf.float16"
      ]
     },
     "execution_count": 77,
     "metadata": {},
     "output_type": "execute_result"
    }
   ],
   "source": [
    "# Changing float from float32, to float16 (reducing precision)\n",
    "C = tf.cast(B, dtype=tf.float16)\n",
    "C.dtype"
   ]
  },
  {
   "cell_type": "markdown",
   "id": "efd05a35",
   "metadata": {},
   "source": [
    "https://www.tensorflow.org/guide/mixed_precision\n",
    "\n",
    "> The default is 32 bit precision, but operations can run faster in 16 bit operations when numbers are very large (millions, bilion etc)."
   ]
  },
  {
   "cell_type": "markdown",
   "id": "84a6a251",
   "metadata": {},
   "source": [
    "## Tensor troubleshooting\n",
    "\n",
    "* Absolute\n",
    "* Minimum value\n",
    "* Maximum value\n",
    "* Mean of a tensor\n",
    "* Sum of a tensor\n",
    "* Variance of a tensor\n",
    "* Stddev of a tensor"
   ]
  },
  {
   "cell_type": "code",
   "execution_count": 81,
   "id": "c13adf32",
   "metadata": {},
   "outputs": [
    {
     "data": {
      "text/plain": [
       "<tf.Tensor: shape=(2,), dtype=float32, numpy=array([-1.7, -7.5], dtype=float32)>"
      ]
     },
     "execution_count": 81,
     "metadata": {},
     "output_type": "execute_result"
    }
   ],
   "source": [
    "negative_A = tf.multiply(A, -1)\n",
    "negative_A"
   ]
  },
  {
   "cell_type": "code",
   "execution_count": 83,
   "id": "f3015d28",
   "metadata": {},
   "outputs": [
    {
     "data": {
      "text/plain": [
       "<tf.Tensor: shape=(2,), dtype=float32, numpy=array([1.7, 7.5], dtype=float32)>"
      ]
     },
     "execution_count": 83,
     "metadata": {},
     "output_type": "execute_result"
    }
   ],
   "source": [
    "# Get the absolute value of the tensor\n",
    "tf.abs(negative_A)"
   ]
  },
  {
   "cell_type": "code",
   "execution_count": 90,
   "id": "8b741043",
   "metadata": {},
   "outputs": [
    {
     "data": {
      "text/plain": [
       "<tf.Tensor: shape=(2,), dtype=float32, numpy=array([-1.7, -7.5], dtype=float32)>"
      ]
     },
     "execution_count": 90,
     "metadata": {},
     "output_type": "execute_result"
    }
   ],
   "source": [
    "# Min tensor\n",
    "tf.math.minimum(A, negative_A)"
   ]
  },
  {
   "cell_type": "code",
   "execution_count": 95,
   "id": "82972fb3",
   "metadata": {},
   "outputs": [
    {
     "data": {
      "text/plain": [
       "<tf.Tensor: shape=(), dtype=float32, numpy=1.7>"
      ]
     },
     "execution_count": 95,
     "metadata": {},
     "output_type": "execute_result"
    }
   ],
   "source": [
    "# Min value of a tensor\n",
    "tf.math.reduce_min(A)"
   ]
  },
  {
   "cell_type": "code",
   "execution_count": 91,
   "id": "d48d1acc",
   "metadata": {},
   "outputs": [
    {
     "data": {
      "text/plain": [
       "<tf.Tensor: shape=(2,), dtype=float32, numpy=array([1.7, 7.5], dtype=float32)>"
      ]
     },
     "execution_count": 91,
     "metadata": {},
     "output_type": "execute_result"
    }
   ],
   "source": [
    "# Max tensor\n",
    "tf.math.maximum(A, negative_A)"
   ]
  },
  {
   "cell_type": "code",
   "execution_count": 96,
   "id": "d7edf15e",
   "metadata": {},
   "outputs": [
    {
     "data": {
      "text/plain": [
       "<tf.Tensor: shape=(), dtype=float32, numpy=-1.7>"
      ]
     },
     "execution_count": 96,
     "metadata": {},
     "output_type": "execute_result"
    }
   ],
   "source": [
    "# Max value of a tensor\n",
    "tf.math.reduce_max(negative_A)"
   ]
  },
  {
   "cell_type": "code",
   "execution_count": 93,
   "id": "01b6e2b3",
   "metadata": {},
   "outputs": [
    {
     "data": {
      "text/plain": [
       "<tf.Tensor: shape=(), dtype=float32, numpy=4.6>"
      ]
     },
     "execution_count": 93,
     "metadata": {},
     "output_type": "execute_result"
    }
   ],
   "source": [
    "# Mean of a tensor\n",
    "tf.math.reduce_mean(A)"
   ]
  },
  {
   "cell_type": "code",
   "execution_count": 94,
   "id": "98e8b960",
   "metadata": {},
   "outputs": [
    {
     "data": {
      "text/plain": [
       "<tf.Tensor: shape=(), dtype=float32, numpy=9.2>"
      ]
     },
     "execution_count": 94,
     "metadata": {},
     "output_type": "execute_result"
    }
   ],
   "source": [
    "# Sum of a tensor\n",
    "tf.math.reduce_sum(A)"
   ]
  },
  {
   "cell_type": "code",
   "execution_count": 97,
   "id": "91ab2384",
   "metadata": {},
   "outputs": [
    {
     "data": {
      "text/plain": [
       "<tf.Tensor: shape=(), dtype=float32, numpy=8.41>"
      ]
     },
     "execution_count": 97,
     "metadata": {},
     "output_type": "execute_result"
    }
   ],
   "source": [
    "# Variance of a tensor\n",
    "tf.math.reduce_variance(A)"
   ]
  },
  {
   "cell_type": "code",
   "execution_count": 98,
   "id": "f7d8ee1f",
   "metadata": {},
   "outputs": [
    {
     "data": {
      "text/plain": [
       "<tf.Tensor: shape=(), dtype=float32, numpy=2.8999999>"
      ]
     },
     "execution_count": 98,
     "metadata": {},
     "output_type": "execute_result"
    }
   ],
   "source": [
    "# Std.dev of a tensor\n",
    "tf.math.reduce_std(A)"
   ]
  },
  {
   "cell_type": "markdown",
   "id": "d2c949c8",
   "metadata": {},
   "source": [
    "## Finding positional minimum and maximum of a tensor (argmin, argmax)"
   ]
  },
  {
   "cell_type": "code",
   "execution_count": 99,
   "id": "8511d082",
   "metadata": {},
   "outputs": [
    {
     "data": {
      "text/plain": [
       "<tf.Tensor: shape=(50,), dtype=float32, numpy=\n",
       "array([0.616078  , 0.7246618 , 0.5964285 , 0.66604424, 0.7925693 ,\n",
       "       0.7088553 , 0.607828  , 0.4165845 , 0.2918079 , 0.56958854,\n",
       "       0.54566526, 0.5852616 , 0.63748527, 0.6302091 , 0.00688756,\n",
       "       0.49423766, 0.39907253, 0.33912086, 0.01078224, 0.10494137,\n",
       "       0.8038738 , 0.28547502, 0.17762232, 0.12865114, 0.2575009 ,\n",
       "       0.19942391, 0.3255118 , 0.96480596, 0.7926245 , 0.40214705,\n",
       "       0.69543684, 0.9102762 , 0.371199  , 0.17239213, 0.5341717 ,\n",
       "       0.5058682 , 0.91520214, 0.58179855, 0.5057099 , 0.20361269,\n",
       "       0.7699158 , 0.30452454, 0.26300275, 0.4422661 , 0.18152666,\n",
       "       0.85926676, 0.76135135, 0.26923728, 0.88504064, 0.38389087],\n",
       "      dtype=float32)>"
      ]
     },
     "execution_count": 99,
     "metadata": {},
     "output_type": "execute_result"
    }
   ],
   "source": [
    "tf.random.set_seed(48)\n",
    "F = tf.random.uniform(shape=[50])\n",
    "F"
   ]
  },
  {
   "cell_type": "code",
   "execution_count": 100,
   "id": "3d4e56a6",
   "metadata": {},
   "outputs": [
    {
     "data": {
      "text/plain": [
       "<tf.Tensor: shape=(), dtype=int64, numpy=27>"
      ]
     },
     "execution_count": 100,
     "metadata": {},
     "output_type": "execute_result"
    }
   ],
   "source": [
    "# Finding the position which has the maximum value of a large tensor\n",
    "tf.argmax(F)"
   ]
  },
  {
   "cell_type": "code",
   "execution_count": 102,
   "id": "35561e91",
   "metadata": {},
   "outputs": [
    {
     "data": {
      "text/plain": [
       "<tf.Tensor: shape=(), dtype=float32, numpy=0.96480596>"
      ]
     },
     "execution_count": 102,
     "metadata": {},
     "output_type": "execute_result"
    }
   ],
   "source": [
    "F[tf.argmax(F)]"
   ]
  },
  {
   "cell_type": "code",
   "execution_count": 103,
   "id": "0a9edf87",
   "metadata": {},
   "outputs": [
    {
     "data": {
      "text/plain": [
       "<tf.Tensor: shape=(), dtype=float32, numpy=0.96480596>"
      ]
     },
     "execution_count": 103,
     "metadata": {},
     "output_type": "execute_result"
    }
   ],
   "source": [
    "tf.math.reduce_max(F)"
   ]
  },
  {
   "cell_type": "markdown",
   "id": "b4c73a6b",
   "metadata": {},
   "source": [
    "We have found the positional maximum value through argmax"
   ]
  },
  {
   "cell_type": "code",
   "execution_count": 104,
   "id": "6d329f1b",
   "metadata": {},
   "outputs": [
    {
     "data": {
      "text/plain": [
       "<tf.Tensor: shape=(), dtype=int64, numpy=14>"
      ]
     },
     "execution_count": 104,
     "metadata": {},
     "output_type": "execute_result"
    }
   ],
   "source": [
    "tf.argmin(F)"
   ]
  },
  {
   "cell_type": "code",
   "execution_count": 105,
   "id": "789585b7",
   "metadata": {},
   "outputs": [
    {
     "data": {
      "text/plain": [
       "<tf.Tensor: shape=(), dtype=float32, numpy=0.006887555>"
      ]
     },
     "execution_count": 105,
     "metadata": {},
     "output_type": "execute_result"
    }
   ],
   "source": [
    "F[tf.argmin(F)]"
   ]
  },
  {
   "cell_type": "code",
   "execution_count": 106,
   "id": "8c4e3776",
   "metadata": {},
   "outputs": [
    {
     "data": {
      "text/plain": [
       "<tf.Tensor: shape=(), dtype=float32, numpy=0.006887555>"
      ]
     },
     "execution_count": 106,
     "metadata": {},
     "output_type": "execute_result"
    }
   ],
   "source": [
    "tf.math.reduce_min(F)"
   ]
  },
  {
   "cell_type": "markdown",
   "id": "3f452b2c",
   "metadata": {},
   "source": [
    "We have found the positional minimum value through argmin"
   ]
  },
  {
   "cell_type": "markdown",
   "id": "cf798202",
   "metadata": {},
   "source": [
    "## Squeezing a tensor (removing all 1-dimension axes)"
   ]
  },
  {
   "cell_type": "code",
   "execution_count": 107,
   "id": "7ed33518",
   "metadata": {},
   "outputs": [
    {
     "data": {
      "text/plain": [
       "<tf.Tensor: shape=(1, 1, 1, 1, 50), dtype=float32, numpy=\n",
       "array([[[[[0.6645621 , 0.44100678, 0.3528825 , 0.46448255, 0.03366041,\n",
       "           0.68467236, 0.74011743, 0.8724445 , 0.22632635, 0.22319686,\n",
       "           0.3103881 , 0.7223358 , 0.13318717, 0.5480639 , 0.5746088 ,\n",
       "           0.8996835 , 0.00946367, 0.5212307 , 0.6345445 , 0.1993283 ,\n",
       "           0.72942245, 0.54583454, 0.10756552, 0.6767061 , 0.6602763 ,\n",
       "           0.33695042, 0.60141766, 0.21062577, 0.8527372 , 0.44062173,\n",
       "           0.9485276 , 0.23752594, 0.81179297, 0.5263394 , 0.494308  ,\n",
       "           0.21612847, 0.8457197 , 0.8718841 , 0.3083862 , 0.6868038 ,\n",
       "           0.23764038, 0.7817228 , 0.9671384 , 0.06870162, 0.79873943,\n",
       "           0.66028714, 0.5871513 , 0.16461694, 0.7381023 , 0.32054043]]]]],\n",
       "      dtype=float32)>"
      ]
     },
     "execution_count": 107,
     "metadata": {},
     "output_type": "execute_result"
    }
   ],
   "source": [
    "tf.random.set_seed(42)\n",
    "G = tf.constant(tf.random.uniform(shape=[50]), shape=(1, 1, 1, 1, 50))\n",
    "G"
   ]
  },
  {
   "cell_type": "code",
   "execution_count": 108,
   "id": "ea8ed1ef",
   "metadata": {},
   "outputs": [
    {
     "data": {
      "text/plain": [
       "TensorShape([1, 1, 1, 1, 50])"
      ]
     },
     "execution_count": 108,
     "metadata": {},
     "output_type": "execute_result"
    }
   ],
   "source": [
    "G.shape"
   ]
  },
  {
   "cell_type": "code",
   "execution_count": 109,
   "id": "beb5a407",
   "metadata": {},
   "outputs": [
    {
     "data": {
      "text/plain": [
       "(<tf.Tensor: shape=(50,), dtype=float32, numpy=\n",
       " array([0.6645621 , 0.44100678, 0.3528825 , 0.46448255, 0.03366041,\n",
       "        0.68467236, 0.74011743, 0.8724445 , 0.22632635, 0.22319686,\n",
       "        0.3103881 , 0.7223358 , 0.13318717, 0.5480639 , 0.5746088 ,\n",
       "        0.8996835 , 0.00946367, 0.5212307 , 0.6345445 , 0.1993283 ,\n",
       "        0.72942245, 0.54583454, 0.10756552, 0.6767061 , 0.6602763 ,\n",
       "        0.33695042, 0.60141766, 0.21062577, 0.8527372 , 0.44062173,\n",
       "        0.9485276 , 0.23752594, 0.81179297, 0.5263394 , 0.494308  ,\n",
       "        0.21612847, 0.8457197 , 0.8718841 , 0.3083862 , 0.6868038 ,\n",
       "        0.23764038, 0.7817228 , 0.9671384 , 0.06870162, 0.79873943,\n",
       "        0.66028714, 0.5871513 , 0.16461694, 0.7381023 , 0.32054043],\n",
       "       dtype=float32)>,\n",
       " TensorShape([50]))"
      ]
     },
     "execution_count": 109,
     "metadata": {},
     "output_type": "execute_result"
    }
   ],
   "source": [
    "G_squeezed = tf.squeeze(G)\n",
    "G_squeezed, G_squeezed.shape"
   ]
  },
  {
   "cell_type": "markdown",
   "id": "d898c9bf",
   "metadata": {},
   "source": [
    "## One-Hot Encoding tensors"
   ]
  },
  {
   "cell_type": "code",
   "execution_count": 128,
   "id": "0c25b1b8",
   "metadata": {},
   "outputs": [
    {
     "data": {
      "text/plain": [
       "<tf.Tensor: shape=(5, 4), dtype=float32, numpy=\n",
       "array([[1., 0., 0., 0.],\n",
       "       [0., 1., 0., 0.],\n",
       "       [0., 0., 1., 0.],\n",
       "       [0., 0., 0., 1.],\n",
       "       [0., 0., 0., 0.]], dtype=float32)>"
      ]
     },
     "execution_count": 128,
     "metadata": {},
     "output_type": "execute_result"
    }
   ],
   "source": [
    "cardinal_list = tf.constant([0, 1, 2, 3, 4])\n",
    "n_cardinal_values = 4\n",
    "\n",
    "tf.one_hot(cardinal_list, depth=n_cardinal_values)"
   ]
  },
  {
   "cell_type": "code",
   "execution_count": 129,
   "id": "37fa86a5",
   "metadata": {},
   "outputs": [
    {
     "data": {
      "text/plain": [
       "<tf.Tensor: shape=(5, 4), dtype=string, numpy=\n",
       "array([[b'x', b'y', b'y', b'y'],\n",
       "       [b'y', b'x', b'y', b'y'],\n",
       "       [b'y', b'y', b'x', b'y'],\n",
       "       [b'y', b'y', b'y', b'x'],\n",
       "       [b'y', b'y', b'y', b'y']], dtype=object)>"
      ]
     },
     "execution_count": 129,
     "metadata": {},
     "output_type": "execute_result"
    }
   ],
   "source": [
    "tf.one_hot(cardinal_list, depth=n_cardinal_values, on_value='x', off_value='y')"
   ]
  },
  {
   "cell_type": "markdown",
   "id": "abcd9f92",
   "metadata": {},
   "source": [
    "## Trying out more tensor math operations"
   ]
  },
  {
   "cell_type": "code",
   "execution_count": 131,
   "id": "8656c1cd",
   "metadata": {},
   "outputs": [
    {
     "data": {
      "text/plain": [
       "<tf.Tensor: shape=(2,), dtype=float32, numpy=array([ 2.89, 56.25], dtype=float32)>"
      ]
     },
     "execution_count": 131,
     "metadata": {},
     "output_type": "execute_result"
    }
   ],
   "source": [
    "# matrix A^2\n",
    "tf.math.square(A)"
   ]
  },
  {
   "cell_type": "code",
   "execution_count": 132,
   "id": "f9fb9b1d",
   "metadata": {},
   "outputs": [
    {
     "data": {
      "text/plain": [
       "<tf.Tensor: shape=(2,), dtype=float32, numpy=array([1.3038405, 2.738613 ], dtype=float32)>"
      ]
     },
     "execution_count": 132,
     "metadata": {},
     "output_type": "execute_result"
    }
   ],
   "source": [
    "# Root of matrix A\n",
    "tf.math.sqrt(A)"
   ]
  },
  {
   "cell_type": "code",
   "execution_count": 133,
   "id": "1d7d5d2b",
   "metadata": {},
   "outputs": [
    {
     "data": {
      "text/plain": [
       "<tf.Tensor: shape=(2,), dtype=float32, numpy=array([0.53062826, 2.014903  ], dtype=float32)>"
      ]
     },
     "execution_count": 133,
     "metadata": {},
     "output_type": "execute_result"
    }
   ],
   "source": [
    "tf.math.log(A)"
   ]
  },
  {
   "cell_type": "markdown",
   "id": "2148f809",
   "metadata": {},
   "source": [
    "### Finding access to GPUs"
   ]
  },
  {
   "cell_type": "code",
   "execution_count": 136,
   "id": "0c0e986c",
   "metadata": {},
   "outputs": [
    {
     "data": {
      "text/plain": [
       "[PhysicalDevice(name='/physical_device:CPU:0', device_type='CPU')]"
      ]
     },
     "execution_count": 136,
     "metadata": {},
     "output_type": "execute_result"
    }
   ],
   "source": [
    "tf.config.list_physical_devices()"
   ]
  },
  {
   "cell_type": "markdown",
   "id": "2a7518c8",
   "metadata": {},
   "source": [
    "GPU is not yet available"
   ]
  },
  {
   "cell_type": "code",
   "execution_count": 138,
   "id": "08bb0842",
   "metadata": {},
   "outputs": [
    {
     "name": "stdout",
     "output_type": "stream",
     "text": [
      "Tue Jul  4 23:40:33 2023       \n",
      "+-----------------------------------------------------------------------------+\n",
      "| NVIDIA-SMI 528.49       Driver Version: 528.49       CUDA Version: 12.0     |\n",
      "|-------------------------------+----------------------+----------------------+\n",
      "| GPU  Name            TCC/WDDM | Bus-Id        Disp.A | Volatile Uncorr. ECC |\n",
      "| Fan  Temp  Perf  Pwr:Usage/Cap|         Memory-Usage | GPU-Util  Compute M. |\n",
      "|                               |                      |               MIG M. |\n",
      "|===============================+======================+======================|\n",
      "|   0  NVIDIA GeForce ... WDDM  | 00000000:01:00.0 Off |                  N/A |\n",
      "| N/A   52C    P8     7W /  75W |     78MiB /  4096MiB |      0%      Default |\n",
      "|                               |                      |                  N/A |\n",
      "+-------------------------------+----------------------+----------------------+\n",
      "                                                                               \n",
      "+-----------------------------------------------------------------------------+\n",
      "| Processes:                                                                  |\n",
      "|  GPU   GI   CI        PID   Type   Process name                  GPU Memory |\n",
      "|        ID   ID                                                   Usage      |\n",
      "|=============================================================================|\n",
      "|    0   N/A  N/A     32832      C   ...svik\\anaconda3\\python.exe    N/A      |\n",
      "+-----------------------------------------------------------------------------+\n"
     ]
    }
   ],
   "source": [
    "# Checking to see what GPU we have available\n",
    "!nvidia-smi"
   ]
  },
  {
   "cell_type": "markdown",
   "id": "c54a71d1",
   "metadata": {},
   "source": [
    "If you have access to a CUDA-enabled GPU (in top right corner), TensorFlow will automatically use it when available"
   ]
  },
  {
   "cell_type": "code",
   "execution_count": 139,
   "id": "ce90014c",
   "metadata": {},
   "outputs": [
    {
     "data": {
      "text/plain": [
       "[PhysicalDevice(name='/physical_device:CPU:0', device_type='CPU')]"
      ]
     },
     "execution_count": 139,
     "metadata": {},
     "output_type": "execute_result"
    }
   ],
   "source": [
    "tf.config.list_physical_devices()"
   ]
  }
 ],
 "metadata": {
  "kernelspec": {
   "display_name": "Python 3 (ipykernel)",
   "language": "python",
   "name": "python3"
  },
  "language_info": {
   "codemirror_mode": {
    "name": "ipython",
    "version": 3
   },
   "file_extension": ".py",
   "mimetype": "text/x-python",
   "name": "python",
   "nbconvert_exporter": "python",
   "pygments_lexer": "ipython3",
   "version": "3.9.7"
  }
 },
 "nbformat": 4,
 "nbformat_minor": 5
}
