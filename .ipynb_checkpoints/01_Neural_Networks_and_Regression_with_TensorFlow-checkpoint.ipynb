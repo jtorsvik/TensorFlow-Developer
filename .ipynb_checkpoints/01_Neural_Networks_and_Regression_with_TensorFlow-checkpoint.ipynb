{
 "cells": [
  {
   "cell_type": "markdown",
   "id": "b33bc85b",
   "metadata": {},
   "source": [
    "# Introduction to Regression with Neural Networks in TensorFlow"
   ]
  },
  {
   "cell_type": "code",
   "execution_count": 1,
   "id": "a7f049af",
   "metadata": {},
   "outputs": [],
   "source": [
    "import tensorflow as tf\n",
    "import numpy as np\n",
    "import pandas as pd\n",
    "import matplotlib.pyplot as plt\n",
    "# import pyspark.pandas as ps\n",
    "# import pyspark as spark"
   ]
  },
  {
   "cell_type": "markdown",
   "id": "f0b56c2e",
   "metadata": {},
   "source": [
    "## Creating data to view"
   ]
  },
  {
   "cell_type": "code",
   "execution_count": 2,
   "id": "7bd58901",
   "metadata": {},
   "outputs": [
    {
     "data": {
      "text/plain": [
       "<matplotlib.collections.PathCollection at 0x1a61e30e280>"
      ]
     },
     "execution_count": 2,
     "metadata": {},
     "output_type": "execute_result"
    },
    {
     "data": {
      "image/png": "[encoded data removed]",
      "text/plain": [
       "<Figure size 432x288 with 1 Axes>"
      ]
     },
     "metadata": {
      "needs_background": "light"
     },
     "output_type": "display_data"
    }
   ],
   "source": [
    "x = np.array([-7.0, -4.0, -1.0, 2.0, 5.0, 8.0, 11.0, 14.0])\n",
    "\n",
    "y = np.array([3.0, 6.0, 9.0, 12.0, 15.0, 18.0, 21.0, 24.0])\n",
    "\n",
    "plt.scatter(x, y)"
   ]
  },
  {
   "cell_type": "code",
   "execution_count": 3,
   "id": "2ea57da5",
   "metadata": {},
   "outputs": [
    {
     "data": {
      "text/plain": [
       "array([ True,  True,  True,  True,  True,  True,  True,  True])"
      ]
     },
     "execution_count": 3,
     "metadata": {},
     "output_type": "execute_result"
    }
   ],
   "source": [
    "y == x + 10"
   ]
  },
  {
   "cell_type": "markdown",
   "id": "3eb2a8f0",
   "metadata": {},
   "source": [
    "## Input and Output Shapes"
   ]
  },
  {
   "cell_type": "code",
   "execution_count": 4,
   "id": "4c7bc56b",
   "metadata": {},
   "outputs": [],
   "source": [
    "house_info = tf.constant(['bedroom', 'bathroom', 'garage'])\n",
    "house_price = tf.constant([939700])"
   ]
  },
  {
   "cell_type": "code",
   "execution_count": 5,
   "id": "e19c85d1",
   "metadata": {},
   "outputs": [
    {
     "data": {
      "text/plain": [
       "((), ())"
      ]
     },
     "execution_count": 5,
     "metadata": {},
     "output_type": "execute_result"
    }
   ],
   "source": [
    "input_shape = x[0].shape\n",
    "output_shape = y[0].shape\n",
    "input_shape, output_shape"
   ]
  },
  {
   "cell_type": "code",
   "execution_count": 6,
   "id": "0bc75d7d",
   "metadata": {},
   "outputs": [
    {
     "data": {
      "text/plain": [
       "(<tf.Tensor: shape=(8,), dtype=float64, numpy=array([-7., -4., -1.,  2.,  5.,  8., 11., 14.])>,\n",
       " <tf.Tensor: shape=(8,), dtype=float64, numpy=array([ 3.,  6.,  9., 12., 15., 18., 21., 24.])>)"
      ]
     },
     "execution_count": 6,
     "metadata": {},
     "output_type": "execute_result"
    }
   ],
   "source": [
    "# Turn NumPy arrays into tensors\n",
    "x = tf.constant(x)\n",
    "y = tf.constant(y)\n",
    "x, y"
   ]
  },
  {
   "cell_type": "code",
   "execution_count": 7,
   "id": "7770d276",
   "metadata": {},
   "outputs": [
    {
     "data": {
      "text/plain": [
       "<matplotlib.collections.PathCollection at 0x1a61e45afd0>"
      ]
     },
     "execution_count": 7,
     "metadata": {},
     "output_type": "execute_result"
    },
    {
     "data": {
      "image/png": "[encoded data removed]",
      "text/plain": [
       "<Figure size 432x288 with 1 Axes>"
      ]
     },
     "metadata": {
      "needs_background": "light"
     },
     "output_type": "display_data"
    }
   ],
   "source": [
    "plt.scatter(x, y)"
   ]
  },
  {
   "cell_type": "markdown",
   "id": "6834caed",
   "metadata": {},
   "source": [
    "## Steps in modelling with TensorFlow\n",
    "\n",
    "1. Creating a model - define the input and output layers, as well as the hidden layers of a deep learning model.\n",
    "2. Compiling a model - define the **loss function** and the **optimizer** and **evaluation metrics**.\n",
    "3. Fitting a model - letting the model try to find patterns between X and Y (features and labels).\n",
    "\n",
    "* **Loss function** : The function which tells us how wrong it is\n",
    "* **Optimizer** : Tells us how to improve the patterns its learning\n",
    "* **Evaluation Metric** : What we can use to interpret the performance of our model"
   ]
  },
  {
   "cell_type": "code",
   "execution_count": 8,
   "id": "f7d39ba0",
   "metadata": {
    "scrolled": false
   },
   "outputs": [
    {
     "name": "stdout",
     "output_type": "stream",
     "text": [
      "Epoch 1/5\n",
      "1/1 [==============================] - 0s 392ms/step - loss: 12.1741 - mae: 12.1741\n",
      "Epoch 2/5\n",
      "1/1 [==============================] - 0s 3ms/step - loss: 11.7328 - mae: 11.7328\n",
      "Epoch 3/5\n",
      "1/1 [==============================] - 0s 3ms/step - loss: 11.2834 - mae: 11.2834\n",
      "Epoch 4/5\n",
      "1/1 [==============================] - 0s 3ms/step - loss: 10.8235 - mae: 10.8235\n",
      "Epoch 5/5\n",
      "1/1 [==============================] - 0s 4ms/step - loss: 10.3507 - mae: 10.3507\n"
     ]
    },
    {
     "data": {
      "text/plain": [
       "<keras.callbacks.History at 0x1a6255c6880>"
      ]
     },
     "execution_count": 8,
     "metadata": {},
     "output_type": "execute_result"
    }
   ],
   "source": [
    "# Set random seed\n",
    "tf.random.set_seed(42)\n",
    "\n",
    "# 1. Create a model using the Sequential API\n",
    "model = tf.keras.Sequential([\n",
    "    tf.keras.layers.Dense(8), # Input layer\n",
    "    tf.keras.layers.Dense(1) # Output layer\n",
    "])\n",
    "\n",
    "# 2. Compile the model\n",
    "model.compile(loss=tf.keras.losses.mae, \n",
    "              optimizer=tf.keras.optimizers.SGD(),\n",
    "              metrics=['mae'])\n",
    "\n",
    "# 3. Fitting the model\n",
    "model.fit(tf.expand_dims(x, axis=-1), y, epochs=5)"
   ]
  },
  {
   "cell_type": "code",
   "execution_count": 9,
   "id": "bd52450c",
   "metadata": {},
   "outputs": [
    {
     "data": {
      "text/plain": [
       "(<tf.Tensor: shape=(8,), dtype=float64, numpy=array([-7., -4., -1.,  2.,  5.,  8., 11., 14.])>,\n",
       " <tf.Tensor: shape=(8,), dtype=float64, numpy=array([ 3.,  6.,  9., 12., 15., 18., 21., 24.])>)"
      ]
     },
     "execution_count": 9,
     "metadata": {},
     "output_type": "execute_result"
    }
   ],
   "source": [
    "# Check out x and y\n",
    "x, y"
   ]
  },
  {
   "cell_type": "code",
   "execution_count": 10,
   "id": "5fd72b51",
   "metadata": {},
   "outputs": [
    {
     "data": {
      "text/plain": [
       "array([[17.059685]], dtype=float32)"
      ]
     },
     "execution_count": 10,
     "metadata": {},
     "output_type": "execute_result"
    }
   ],
   "source": [
    "# Making a prediction using the model\n",
    "model.predict([17.0])"
   ]
  },
  {
   "cell_type": "code",
   "execution_count": 11,
   "id": "f19913ad",
   "metadata": {
    "scrolled": true
   },
   "outputs": [
    {
     "name": "stdout",
     "output_type": "stream",
     "text": [
      "Epoch 1/5\n",
      "1/1 [==============================] - 0s 265ms/step - loss: 14.6906 - mae: 14.6906\n",
      "Epoch 2/5\n",
      "1/1 [==============================] - 0s 2ms/step - loss: 14.3664 - mae: 14.3664\n",
      "Epoch 3/5\n",
      "1/1 [==============================] - 0s 4ms/step - loss: 14.0476 - mae: 14.0476\n",
      "Epoch 4/5\n",
      "1/1 [==============================] - 0s 4ms/step - loss: 13.7326 - mae: 13.7326\n",
      "Epoch 5/5\n",
      "1/1 [==============================] - 0s 2ms/step - loss: 13.4199 - mae: 13.4199\n"
     ]
    },
    {
     "data": {
      "text/plain": [
       "<keras.callbacks.History at 0x1a6256a5b50>"
      ]
     },
     "execution_count": 11,
     "metadata": {},
     "output_type": "execute_result"
    }
   ],
   "source": [
    "# Optionally, we can also build an empty model and add layers to it later \n",
    "optional_model = tf.keras.Sequential()\n",
    "\n",
    "# The first layer can also receive an 'input_shape' argument:\n",
    "optional_model.add(tf.keras.layers.Dense(8, input_shape=(1,)))\n",
    "optional_model.add(tf.keras.layers.Dense(1, input_shape=(8,)))\n",
    "\n",
    "optional_model.compile(loss=tf.keras.losses.mae,\n",
    "               optimizer=tf.keras.optimizers.SGD(),\n",
    "               metrics=['mae'])\n",
    "\n",
    "optional_model.fit(tf.expand_dims(x, axis=-1), y, epochs=5)"
   ]
  },
  {
   "cell_type": "code",
   "execution_count": 12,
   "id": "858b64bc",
   "metadata": {},
   "outputs": [
    {
     "data": {
      "text/plain": [
       "array([[1.6232219]], dtype=float32)"
      ]
     },
     "execution_count": 12,
     "metadata": {},
     "output_type": "execute_result"
    }
   ],
   "source": [
    "optional_model.predict([17.])"
   ]
  },
  {
   "cell_type": "markdown",
   "id": "0ac12795",
   "metadata": {},
   "source": [
    "## Improving the model\n",
    "\n",
    "We can improve the model by altering the steps we took to create the model:\n",
    "\n",
    "1. **Creating the model**\n",
    "        1a. Add more layers\n",
    "        1b. Increase the number of neurons in each layer\n",
    "        1c. Change the activation function of each layer\n",
    "  \n",
    "2. **Compiling the model**\n",
    "        2a. Change the optimization function\n",
    "        2b. Change the learning rate of the optimization function\n",
    "\n",
    "3. **Fitting the model**\n",
    "        3a. Fit the model for more epochs\n",
    "        3b. Give the model more training data"
   ]
  },
  {
   "cell_type": "code",
   "execution_count": 13,
   "id": "749bd794",
   "metadata": {
    "scrolled": true
   },
   "outputs": [
    {
     "name": "stdout",
     "output_type": "stream",
     "text": [
      "Epoch 1/10\n",
      "1/1 [==============================] - 0s 314ms/step - loss: 13.6158 - mae: 13.6158\n",
      "Epoch 2/10\n",
      "1/1 [==============================] - 0s 3ms/step - loss: 12.3874 - mae: 12.3874\n",
      "Epoch 3/10\n",
      "1/1 [==============================] - 0s 3ms/step - loss: 11.1291 - mae: 11.1291\n",
      "Epoch 4/10\n",
      "1/1 [==============================] - 0s 4ms/step - loss: 9.7418 - mae: 9.7418\n",
      "Epoch 5/10\n",
      "1/1 [==============================] - 0s 3ms/step - loss: 8.1076 - mae: 8.1076\n",
      "Epoch 6/10\n",
      "1/1 [==============================] - 0s 3ms/step - loss: 7.6517 - mae: 7.6517\n",
      "Epoch 7/10\n",
      "1/1 [==============================] - 0s 4ms/step - loss: 7.7626 - mae: 7.7626\n",
      "Epoch 8/10\n",
      "1/1 [==============================] - 0s 5ms/step - loss: 7.7985 - mae: 7.7985\n",
      "Epoch 9/10\n",
      "1/1 [==============================] - 0s 3ms/step - loss: 7.3967 - mae: 7.3967\n",
      "Epoch 10/10\n",
      "1/1 [==============================] - 0s 3ms/step - loss: 7.9969 - mae: 7.9969\n"
     ]
    },
    {
     "data": {
      "text/plain": [
       "<keras.callbacks.History at 0x1a6268eba30>"
      ]
     },
     "execution_count": 13,
     "metadata": {},
     "output_type": "execute_result"
    }
   ],
   "source": [
    "improved_model1 = tf.keras.Sequential()\n",
    "improved_model1.add(tf.keras.layers.Dense(8, input_shape=(1,)))\n",
    "improved_model1.add(tf.keras.layers.Dense(100))\n",
    "improved_model1.add(tf.keras.layers.Dense(100))\n",
    "improved_model1.add(tf.keras.layers.Dense(1))\n",
    "\n",
    "improved_model1.compile(loss=tf.keras.losses.mae,\n",
    "                        optimizer=tf.keras.optimizers.SGD(),\n",
    "                        metrics=['mae'])\n",
    "\n",
    "improved_model1.fit(tf.expand_dims(x, axis=-1), y, epochs=10)"
   ]
  },
  {
   "cell_type": "code",
   "execution_count": 14,
   "id": "8b9be558",
   "metadata": {},
   "outputs": [
    {
     "data": {
      "text/plain": [
       "array([[23.279066]], dtype=float32)"
      ]
     },
     "execution_count": 14,
     "metadata": {},
     "output_type": "execute_result"
    }
   ],
   "source": [
    "improved_model1.predict([17.0])"
   ]
  },
  {
   "cell_type": "code",
   "execution_count": 15,
   "id": "d136d568",
   "metadata": {},
   "outputs": [
    {
     "name": "stdout",
     "output_type": "stream",
     "text": [
      "Epoch 1/100\n",
      "1/1 [==============================] - 0s 289ms/step - loss: 9.8806 - mae: 9.8806\n",
      "Epoch 2/100\n",
      "1/1 [==============================] - 0s 5ms/step - loss: 9.3628 - mae: 9.3628\n",
      "Epoch 3/100\n",
      "1/1 [==============================] - 0s 4ms/step - loss: 8.8244 - mae: 8.8244\n",
      "Epoch 4/100\n",
      "1/1 [==============================] - 0s 4ms/step - loss: 8.2629 - mae: 8.2629\n",
      "Epoch 5/100\n",
      "1/1 [==============================] - 0s 4ms/step - loss: 7.6751 - mae: 7.6751\n",
      "Epoch 6/100\n",
      "1/1 [==============================] - 0s 4ms/step - loss: 7.3655 - mae: 7.3655\n",
      "Epoch 7/100\n",
      "1/1 [==============================] - 0s 4ms/step - loss: 7.3444 - mae: 7.3444\n",
      "Epoch 8/100\n",
      "1/1 [==============================] - 0s 4ms/step - loss: 7.3232 - mae: 7.3232\n",
      "Epoch 9/100\n",
      "1/1 [==============================] - 0s 3ms/step - loss: 7.3020 - mae: 7.3020\n",
      "Epoch 10/100\n",
      "1/1 [==============================] - 0s 4ms/step - loss: 7.2807 - mae: 7.2807\n",
      "Epoch 11/100\n",
      "1/1 [==============================] - 0s 3ms/step - loss: 7.2595 - mae: 7.2595\n",
      "Epoch 12/100\n",
      "1/1 [==============================] - 0s 2ms/step - loss: 7.2382 - mae: 7.2382\n",
      "Epoch 13/100\n",
      "1/1 [==============================] - 0s 4ms/step - loss: 7.2168 - mae: 7.2168\n",
      "Epoch 14/100\n",
      "1/1 [==============================] - 0s 3ms/step - loss: 7.1954 - mae: 7.1954\n",
      "Epoch 15/100\n",
      "1/1 [==============================] - 0s 4ms/step - loss: 7.1740 - mae: 7.1740\n",
      "Epoch 16/100\n",
      "1/1 [==============================] - 0s 3ms/step - loss: 7.1525 - mae: 7.1525\n",
      "Epoch 17/100\n",
      "1/1 [==============================] - 0s 3ms/step - loss: 7.1309 - mae: 7.1309\n",
      "Epoch 18/100\n",
      "1/1 [==============================] - 0s 3ms/step - loss: 7.1093 - mae: 7.1093\n",
      "Epoch 19/100\n",
      "1/1 [==============================] - 0s 3ms/step - loss: 7.0877 - mae: 7.0877\n",
      "Epoch 20/100\n",
      "1/1 [==============================] - 0s 3ms/step - loss: 7.0659 - mae: 7.0659\n",
      "Epoch 21/100\n",
      "1/1 [==============================] - 0s 3ms/step - loss: 7.0441 - mae: 7.0441\n",
      "Epoch 22/100\n",
      "1/1 [==============================] - 0s 3ms/step - loss: 7.0222 - mae: 7.0222\n",
      "Epoch 23/100\n",
      "1/1 [==============================] - 0s 3ms/step - loss: 7.0003 - mae: 7.0003\n",
      "Epoch 24/100\n",
      "1/1 [==============================] - 0s 3ms/step - loss: 6.9782 - mae: 6.9782\n",
      "Epoch 25/100\n",
      "1/1 [==============================] - 0s 3ms/step - loss: 6.9561 - mae: 6.9561\n",
      "Epoch 26/100\n",
      "1/1 [==============================] - 0s 4ms/step - loss: 6.9339 - mae: 6.9339\n",
      "Epoch 27/100\n",
      "1/1 [==============================] - 0s 3ms/step - loss: 6.9116 - mae: 6.9116\n",
      "Epoch 28/100\n",
      "1/1 [==============================] - 0s 4ms/step - loss: 6.8892 - mae: 6.8892\n",
      "Epoch 29/100\n",
      "1/1 [==============================] - 0s 3ms/step - loss: 6.8667 - mae: 6.8667\n",
      "Epoch 30/100\n",
      "1/1 [==============================] - 0s 5ms/step - loss: 6.8490 - mae: 6.8490\n",
      "Epoch 31/100\n",
      "1/1 [==============================] - 0s 3ms/step - loss: 6.8375 - mae: 6.8375\n",
      "Epoch 32/100\n",
      "1/1 [==============================] - 0s 3ms/step - loss: 6.8153 - mae: 6.8153\n",
      "Epoch 33/100\n",
      "1/1 [==============================] - 0s 3ms/step - loss: 6.7930 - mae: 6.7930\n",
      "Epoch 34/100\n",
      "1/1 [==============================] - 0s 4ms/step - loss: 6.7705 - mae: 6.7705\n",
      "Epoch 35/100\n",
      "1/1 [==============================] - 0s 3ms/step - loss: 6.7479 - mae: 6.7479\n",
      "Epoch 36/100\n",
      "1/1 [==============================] - 0s 4ms/step - loss: 6.7253 - mae: 6.7253\n",
      "Epoch 37/100\n",
      "1/1 [==============================] - 0s 3ms/step - loss: 6.7024 - mae: 6.7024\n",
      "Epoch 38/100\n",
      "1/1 [==============================] - 0s 4ms/step - loss: 6.6795 - mae: 6.6795\n",
      "Epoch 39/100\n",
      "1/1 [==============================] - 0s 3ms/step - loss: 6.6564 - mae: 6.6564\n",
      "Epoch 40/100\n",
      "1/1 [==============================] - 0s 3ms/step - loss: 6.6332 - mae: 6.6332\n",
      "Epoch 41/100\n",
      "1/1 [==============================] - 0s 4ms/step - loss: 6.6098 - mae: 6.6098\n",
      "Epoch 42/100\n",
      "1/1 [==============================] - 0s 3ms/step - loss: 6.5863 - mae: 6.5863\n",
      "Epoch 43/100\n",
      "1/1 [==============================] - 0s 2ms/step - loss: 6.5627 - mae: 6.5627\n",
      "Epoch 44/100\n",
      "1/1 [==============================] - 0s 4ms/step - loss: 6.5389 - mae: 6.5389\n",
      "Epoch 45/100\n",
      "1/1 [==============================] - 0s 3ms/step - loss: 6.5149 - mae: 6.5149\n",
      "Epoch 46/100\n",
      "1/1 [==============================] - 0s 3ms/step - loss: 6.4908 - mae: 6.4908\n",
      "Epoch 47/100\n",
      "1/1 [==============================] - 0s 3ms/step - loss: 6.4665 - mae: 6.4665\n",
      "Epoch 48/100\n",
      "1/1 [==============================] - 0s 4ms/step - loss: 6.4420 - mae: 6.4420\n",
      "Epoch 49/100\n",
      "1/1 [==============================] - 0s 4ms/step - loss: 6.4174 - mae: 6.4174\n",
      "Epoch 50/100\n",
      "1/1 [==============================] - 0s 3ms/step - loss: 6.3926 - mae: 6.3926\n",
      "Epoch 51/100\n",
      "1/1 [==============================] - 0s 2ms/step - loss: 6.3747 - mae: 6.3747\n",
      "Epoch 52/100\n",
      "1/1 [==============================] - 0s 4ms/step - loss: 6.3645 - mae: 6.3645\n",
      "Epoch 53/100\n",
      "1/1 [==============================] - 0s 3ms/step - loss: 6.3397 - mae: 6.3397\n",
      "Epoch 54/100\n",
      "1/1 [==============================] - 0s 4ms/step - loss: 6.3147 - mae: 6.3147\n",
      "Epoch 55/100\n",
      "1/1 [==============================] - 0s 2ms/step - loss: 6.2895 - mae: 6.2895\n",
      "Epoch 56/100\n",
      "1/1 [==============================] - 0s 2ms/step - loss: 6.2642 - mae: 6.2642\n",
      "Epoch 57/100\n",
      "1/1 [==============================] - 0s 4ms/step - loss: 6.2386 - mae: 6.2386\n",
      "Epoch 58/100\n",
      "1/1 [==============================] - 0s 4ms/step - loss: 6.2128 - mae: 6.2128\n",
      "Epoch 59/100\n",
      "1/1 [==============================] - 0s 4ms/step - loss: 6.1868 - mae: 6.1868\n",
      "Epoch 60/100\n",
      "1/1 [==============================] - 0s 3ms/step - loss: 6.1606 - mae: 6.1606\n",
      "Epoch 61/100\n",
      "1/1 [==============================] - 0s 2ms/step - loss: 6.1342 - mae: 6.1342\n",
      "Epoch 62/100\n",
      "1/1 [==============================] - 0s 4ms/step - loss: 6.1075 - mae: 6.1075\n",
      "Epoch 63/100\n",
      "1/1 [==============================] - 0s 3ms/step - loss: 6.0806 - mae: 6.0806\n",
      "Epoch 64/100\n",
      "1/1 [==============================] - 0s 4ms/step - loss: 6.0535 - mae: 6.0535\n",
      "Epoch 65/100\n",
      "1/1 [==============================] - 0s 4ms/step - loss: 6.0261 - mae: 6.0261\n",
      "Epoch 66/100\n",
      "1/1 [==============================] - 0s 3ms/step - loss: 5.9985 - mae: 5.9985\n",
      "Epoch 67/100\n",
      "1/1 [==============================] - 0s 5ms/step - loss: 5.9706 - mae: 5.9706\n",
      "Epoch 68/100\n",
      "1/1 [==============================] - 0s 3ms/step - loss: 5.9588 - mae: 5.9588\n",
      "Epoch 69/100\n",
      "1/1 [==============================] - 0s 3ms/step - loss: 5.9410 - mae: 5.9410\n",
      "Epoch 70/100\n",
      "1/1 [==============================] - 0s 3ms/step - loss: 5.9129 - mae: 5.9129\n",
      "Epoch 71/100\n",
      "1/1 [==============================] - 0s 3ms/step - loss: 5.8846 - mae: 5.8846\n",
      "Epoch 72/100\n",
      "1/1 [==============================] - 0s 4ms/step - loss: 5.8560 - mae: 5.8560\n",
      "Epoch 73/100\n",
      "1/1 [==============================] - 0s 4ms/step - loss: 5.8272 - mae: 5.8272\n",
      "Epoch 74/100\n",
      "1/1 [==============================] - 0s 3ms/step - loss: 5.7980 - mae: 5.7980\n",
      "Epoch 75/100\n",
      "1/1 [==============================] - 0s 3ms/step - loss: 5.7686 - mae: 5.7686\n",
      "Epoch 76/100\n",
      "1/1 [==============================] - 0s 4ms/step - loss: 5.7389 - mae: 5.7389\n",
      "Epoch 77/100\n",
      "1/1 [==============================] - 0s 2ms/step - loss: 5.7089 - mae: 5.7089\n",
      "Epoch 78/100\n",
      "1/1 [==============================] - 0s 3ms/step - loss: 5.6786 - mae: 5.6786\n",
      "Epoch 79/100\n",
      "1/1 [==============================] - 0s 4ms/step - loss: 5.6479 - mae: 5.6479\n",
      "Epoch 80/100\n",
      "1/1 [==============================] - 0s 3ms/step - loss: 5.6170 - mae: 5.6170\n",
      "Epoch 81/100\n",
      "1/1 [==============================] - 0s 3ms/step - loss: 5.5857 - mae: 5.5857\n",
      "Epoch 82/100\n",
      "1/1 [==============================] - 0s 3ms/step - loss: 5.5542 - mae: 5.5542\n",
      "Epoch 83/100\n",
      "1/1 [==============================] - 0s 2ms/step - loss: 5.5516 - mae: 5.5516\n",
      "Epoch 84/100\n",
      "1/1 [==============================] - 0s 4ms/step - loss: 5.5209 - mae: 5.5209\n",
      "Epoch 85/100\n",
      "1/1 [==============================] - 0s 4ms/step - loss: 5.4889 - mae: 5.4889\n",
      "Epoch 86/100\n",
      "1/1 [==============================] - 0s 5ms/step - loss: 5.4566 - mae: 5.4566\n",
      "Epoch 87/100\n",
      "1/1 [==============================] - 0s 5ms/step - loss: 5.4240 - mae: 5.4240\n",
      "Epoch 88/100\n",
      "1/1 [==============================] - 0s 3ms/step - loss: 5.3910 - mae: 5.3910\n",
      "Epoch 89/100\n"
     ]
    },
    {
     "name": "stdout",
     "output_type": "stream",
     "text": [
      "1/1 [==============================] - 0s 4ms/step - loss: 5.3576 - mae: 5.3576\n",
      "Epoch 90/100\n",
      "1/1 [==============================] - 0s 4ms/step - loss: 5.3238 - mae: 5.3238\n",
      "Epoch 91/100\n",
      "1/1 [==============================] - 0s 4ms/step - loss: 5.2897 - mae: 5.2897\n",
      "Epoch 92/100\n",
      "1/1 [==============================] - 0s 3ms/step - loss: 5.2552 - mae: 5.2552\n",
      "Epoch 93/100\n",
      "1/1 [==============================] - 0s 3ms/step - loss: 5.2203 - mae: 5.2203\n",
      "Epoch 94/100\n",
      "1/1 [==============================] - 0s 3ms/step - loss: 5.1851 - mae: 5.1851\n",
      "Epoch 95/100\n",
      "1/1 [==============================] - 0s 3ms/step - loss: 5.1494 - mae: 5.1494\n",
      "Epoch 96/100\n",
      "1/1 [==============================] - 0s 4ms/step - loss: 5.1292 - mae: 5.1292\n",
      "Epoch 97/100\n",
      "1/1 [==============================] - 0s 4ms/step - loss: 5.1484 - mae: 5.1484\n",
      "Epoch 98/100\n",
      "1/1 [==============================] - 0s 3ms/step - loss: 5.2319 - mae: 5.2319\n",
      "Epoch 99/100\n",
      "1/1 [==============================] - 0s 3ms/step - loss: 5.0340 - mae: 5.0340\n",
      "Epoch 100/100\n",
      "1/1 [==============================] - 0s 4ms/step - loss: 4.9968 - mae: 4.9968\n"
     ]
    },
    {
     "data": {
      "text/plain": [
       "<keras.callbacks.History at 0x1a62798ed60>"
      ]
     },
     "execution_count": 15,
     "metadata": {},
     "output_type": "execute_result"
    }
   ],
   "source": [
    "improved_model2 = tf.keras.Sequential()\n",
    "improved_model2.add(tf.keras.layers.Dense(8, input_shape=(1,)))\n",
    "improved_model2.add(tf.keras.layers.Dense(1))\n",
    "\n",
    "improved_model2.compile(loss=tf.keras.losses.mae,\n",
    "                        optimizer=tf.keras.optimizers.SGD(),\n",
    "                        metrics=['mae'])\n",
    "\n",
    "improved_model2.fit(tf.expand_dims(x, axis=-1), y, epochs=100)"
   ]
  },
  {
   "cell_type": "code",
   "execution_count": 16,
   "id": "055b3cef",
   "metadata": {},
   "outputs": [
    {
     "data": {
      "text/plain": [
       "array([[29.654331]], dtype=float32)"
      ]
     },
     "execution_count": 16,
     "metadata": {},
     "output_type": "execute_result"
    }
   ],
   "source": [
    "improved_model2.predict([17.0])"
   ]
  },
  {
   "cell_type": "code",
   "execution_count": 17,
   "id": "61df7fee",
   "metadata": {
    "scrolled": true
   },
   "outputs": [
    {
     "name": "stdout",
     "output_type": "stream",
     "text": [
      "Epoch 1/10\n",
      "1/1 [==============================] - 0s 289ms/step - loss: 12.9679 - mae: 12.9679\n",
      "Epoch 2/10\n",
      "1/1 [==============================] - 0s 3ms/step - loss: 12.3713 - mae: 12.3713\n",
      "Epoch 3/10\n",
      "1/1 [==============================] - 0s 3ms/step - loss: 11.7664 - mae: 11.7664\n",
      "Epoch 4/10\n",
      "1/1 [==============================] - 0s 3ms/step - loss: 11.2372 - mae: 11.2372\n",
      "Epoch 5/10\n",
      "1/1 [==============================] - 0s 2ms/step - loss: 10.6903 - mae: 10.6903\n",
      "Epoch 6/10\n",
      "1/1 [==============================] - 0s 2ms/step - loss: 10.1480 - mae: 10.1480\n",
      "Epoch 7/10\n",
      "1/1 [==============================] - 0s 3ms/step - loss: 9.5917 - mae: 9.5917\n",
      "Epoch 8/10\n",
      "1/1 [==============================] - 0s 2ms/step - loss: 9.0001 - mae: 9.0001\n",
      "Epoch 9/10\n",
      "1/1 [==============================] - 0s 4ms/step - loss: 8.3672 - mae: 8.3672\n",
      "Epoch 10/10\n",
      "1/1 [==============================] - 0s 4ms/step - loss: 7.6859 - mae: 7.6859\n"
     ]
    },
    {
     "data": {
      "text/plain": [
       "<keras.callbacks.History at 0x1a627a4e1f0>"
      ]
     },
     "execution_count": 17,
     "metadata": {},
     "output_type": "execute_result"
    }
   ],
   "source": [
    "improved_model3 = tf.keras.Sequential()\n",
    "improved_model3.add(tf.keras.layers.Dense(20, input_shape=(1,), activation='relu'))\n",
    "improved_model3.add(tf.keras.layers.Dense(1))\n",
    "\n",
    "improved_model3.compile(loss=tf.keras.losses.mae,\n",
    "                        optimizer=tf.keras.optimizers.SGD(),\n",
    "                        metrics=['mae'])\n",
    "\n",
    "improved_model3.fit(tf.expand_dims(x, axis=-1), y, epochs=10)"
   ]
  },
  {
   "cell_type": "code",
   "execution_count": 18,
   "id": "7525447c",
   "metadata": {},
   "outputs": [
    {
     "name": "stdout",
     "output_type": "stream",
     "text": [
      "WARNING:tensorflow:5 out of the last 5 calls to <function Model.make_predict_function.<locals>.predict_function at 0x000001A627A64310> triggered tf.function retracing. Tracing is expensive and the excessive number of tracings could be due to (1) creating @tf.function repeatedly in a loop, (2) passing tensors with different shapes, (3) passing Python objects instead of tensors. For (1), please define your @tf.function outside of the loop. For (2), @tf.function has experimental_relax_shapes=True option that relaxes argument shapes that can avoid unnecessary retracing. For (3), please refer to https://www.tensorflow.org/guide/function#controlling_retracing and https://www.tensorflow.org/api_docs/python/tf/function for  more details.\n"
     ]
    },
    {
     "data": {
      "text/plain": [
       "array([[21.63002]], dtype=float32)"
      ]
     },
     "execution_count": 18,
     "metadata": {},
     "output_type": "execute_result"
    }
   ],
   "source": [
    "improved_model3.predict([17.0])"
   ]
  },
  {
   "cell_type": "code",
   "execution_count": 19,
   "id": "e25c7bfc",
   "metadata": {
    "scrolled": true
   },
   "outputs": [
    {
     "name": "stdout",
     "output_type": "stream",
     "text": [
      "Epoch 1/50\n",
      "1/1 [==============================] - 0s 252ms/step - loss: 11.7176 - mae: 11.7176\n",
      "Epoch 2/50\n",
      "1/1 [==============================] - 0s 4ms/step - loss: 11.2893 - mae: 11.2893\n",
      "Epoch 3/50\n",
      "1/1 [==============================] - 0s 4ms/step - loss: 10.8556 - mae: 10.8556\n",
      "Epoch 4/50\n",
      "1/1 [==============================] - 0s 3ms/step - loss: 10.4162 - mae: 10.4162\n",
      "Epoch 5/50\n",
      "1/1 [==============================] - 0s 4ms/step - loss: 9.9706 - mae: 9.9706\n",
      "Epoch 6/50\n",
      "1/1 [==============================] - 0s 5ms/step - loss: 9.5180 - mae: 9.5180\n",
      "Epoch 7/50\n",
      "1/1 [==============================] - 0s 2ms/step - loss: 9.0575 - mae: 9.0575\n",
      "Epoch 8/50\n",
      "1/1 [==============================] - 0s 3ms/step - loss: 8.5882 - mae: 8.5882\n",
      "Epoch 9/50\n",
      "1/1 [==============================] - 0s 3ms/step - loss: 8.1094 - mae: 8.1094\n",
      "Epoch 10/50\n",
      "1/1 [==============================] - 0s 3ms/step - loss: 7.6203 - mae: 7.6203\n",
      "Epoch 11/50\n",
      "1/1 [==============================] - 0s 5ms/step - loss: 7.1202 - mae: 7.1202\n",
      "Epoch 12/50\n",
      "1/1 [==============================] - 0s 3ms/step - loss: 6.8787 - mae: 6.8787\n",
      "Epoch 13/50\n",
      "1/1 [==============================] - 0s 1ms/step - loss: 6.8631 - mae: 6.8631\n",
      "Epoch 14/50\n",
      "1/1 [==============================] - 0s 3ms/step - loss: 7.0511 - mae: 7.0511\n",
      "Epoch 15/50\n",
      "1/1 [==============================] - 0s 2ms/step - loss: 7.1726 - mae: 7.1726\n",
      "Epoch 16/50\n",
      "1/1 [==============================] - 0s 3ms/step - loss: 7.2358 - mae: 7.2358\n",
      "Epoch 17/50\n",
      "1/1 [==============================] - 0s 2ms/step - loss: 7.2486 - mae: 7.2486\n",
      "Epoch 18/50\n",
      "1/1 [==============================] - 0s 4ms/step - loss: 7.2180 - mae: 7.2180\n",
      "Epoch 19/50\n",
      "1/1 [==============================] - 0s 2ms/step - loss: 7.1501 - mae: 7.1501\n",
      "Epoch 20/50\n",
      "1/1 [==============================] - 0s 4ms/step - loss: 7.0505 - mae: 7.0505\n",
      "Epoch 21/50\n",
      "1/1 [==============================] - 0s 2ms/step - loss: 6.9242 - mae: 6.9242\n",
      "Epoch 22/50\n",
      "1/1 [==============================] - 0s 2ms/step - loss: 6.7755 - mae: 6.7755\n",
      "Epoch 23/50\n",
      "1/1 [==============================] - 0s 1ms/step - loss: 6.6082 - mae: 6.6082\n",
      "Epoch 24/50\n",
      "1/1 [==============================] - 0s 4ms/step - loss: 6.4255 - mae: 6.4255\n",
      "Epoch 25/50\n",
      "1/1 [==============================] - 0s 3ms/step - loss: 6.2411 - mae: 6.2411\n",
      "Epoch 26/50\n",
      "1/1 [==============================] - 0s 3ms/step - loss: 6.2033 - mae: 6.2033\n",
      "Epoch 27/50\n",
      "1/1 [==============================] - 0s 2ms/step - loss: 6.1631 - mae: 6.1631\n",
      "Epoch 28/50\n",
      "1/1 [==============================] - 0s 2ms/step - loss: 6.1206 - mae: 6.1206\n",
      "Epoch 29/50\n",
      "1/1 [==============================] - 0s 3ms/step - loss: 6.1165 - mae: 6.1165\n",
      "Epoch 30/50\n",
      "1/1 [==============================] - 0s 3ms/step - loss: 6.1096 - mae: 6.1096\n",
      "Epoch 31/50\n",
      "1/1 [==============================] - 0s 2ms/step - loss: 6.0328 - mae: 6.0328\n",
      "Epoch 32/50\n",
      "1/1 [==============================] - 0s 2ms/step - loss: 5.9007 - mae: 5.9007\n",
      "Epoch 33/50\n",
      "1/1 [==============================] - 0s 3ms/step - loss: 5.8347 - mae: 5.8347\n",
      "Epoch 34/50\n",
      "1/1 [==============================] - 0s 2ms/step - loss: 5.7673 - mae: 5.7673\n",
      "Epoch 35/50\n",
      "1/1 [==============================] - 0s 2ms/step - loss: 5.6984 - mae: 5.6984\n",
      "Epoch 36/50\n",
      "1/1 [==============================] - 0s 3ms/step - loss: 5.6278 - mae: 5.6278\n",
      "Epoch 37/50\n",
      "1/1 [==============================] - 0s 3ms/step - loss: 5.5556 - mae: 5.5556\n",
      "Epoch 38/50\n",
      "1/1 [==============================] - 0s 2ms/step - loss: 5.4816 - mae: 5.4816\n",
      "Epoch 39/50\n",
      "1/1 [==============================] - 0s 3ms/step - loss: 5.4232 - mae: 5.4232\n",
      "Epoch 40/50\n",
      "1/1 [==============================] - 0s 3ms/step - loss: 5.3754 - mae: 5.3754\n",
      "Epoch 41/50\n",
      "1/1 [==============================] - 0s 2ms/step - loss: 5.2959 - mae: 5.2959\n",
      "Epoch 42/50\n",
      "1/1 [==============================] - 0s 3ms/step - loss: 5.2004 - mae: 5.2004\n",
      "Epoch 43/50\n",
      "1/1 [==============================] - 0s 2ms/step - loss: 5.1321 - mae: 5.1321\n",
      "Epoch 44/50\n",
      "1/1 [==============================] - 0s 1ms/step - loss: 5.0606 - mae: 5.0606\n",
      "Epoch 45/50\n",
      "1/1 [==============================] - 0s 2ms/step - loss: 4.9857 - mae: 4.9857\n",
      "Epoch 46/50\n",
      "1/1 [==============================] - 0s 6ms/step - loss: 4.9075 - mae: 4.9075\n",
      "Epoch 47/50\n",
      "1/1 [==============================] - 0s 2ms/step - loss: 4.8260 - mae: 4.8260\n",
      "Epoch 48/50\n",
      "1/1 [==============================] - 0s 3ms/step - loss: 4.7410 - mae: 4.7410\n",
      "Epoch 49/50\n",
      "1/1 [==============================] - 0s 2ms/step - loss: 4.6526 - mae: 4.6526\n",
      "Epoch 50/50\n",
      "1/1 [==============================] - 0s 2ms/step - loss: 4.5607 - mae: 4.5607\n"
     ]
    },
    {
     "data": {
      "text/plain": [
       "<keras.callbacks.History at 0x1a627b13e20>"
      ]
     },
     "execution_count": 19,
     "metadata": {},
     "output_type": "execute_result"
    }
   ],
   "source": [
    "improved_model4 = tf.keras.Sequential()\n",
    "improved_model4.add(tf.keras.layers.Dense(20, input_shape=(1,)))\n",
    "improved_model4.add(tf.keras.layers.Dense(1))\n",
    "\n",
    "improved_model4.compile(loss=tf.keras.losses.mae,\n",
    "                        optimizer=tf.keras.optimizers.Adam(learning_rate=0.01),\n",
    "                        metrics=['mae'])\n",
    "\n",
    "improved_model4.fit(tf.expand_dims(x, axis=-1), y, epochs=50)"
   ]
  },
  {
   "cell_type": "code",
   "execution_count": 20,
   "id": "96e05809",
   "metadata": {},
   "outputs": [
    {
     "name": "stdout",
     "output_type": "stream",
     "text": [
      "WARNING:tensorflow:6 out of the last 6 calls to <function Model.make_predict_function.<locals>.predict_function at 0x000001A627B2D1F0> triggered tf.function retracing. Tracing is expensive and the excessive number of tracings could be due to (1) creating @tf.function repeatedly in a loop, (2) passing tensors with different shapes, (3) passing Python objects instead of tensors. For (1), please define your @tf.function outside of the loop. For (2), @tf.function has experimental_relax_shapes=True option that relaxes argument shapes that can avoid unnecessary retracing. For (3), please refer to https://www.tensorflow.org/guide/function#controlling_retracing and https://www.tensorflow.org/api_docs/python/tf/function for  more details.\n"
     ]
    },
    {
     "data": {
      "text/plain": [
       "array([[30.031414]], dtype=float32)"
      ]
     },
     "execution_count": 20,
     "metadata": {},
     "output_type": "execute_result"
    }
   ],
   "source": [
    "improved_model4.predict([17.0])"
   ]
  },
  {
   "cell_type": "markdown",
   "id": "ca33c9f8",
   "metadata": {},
   "source": [
    "From testing multiple improvements of the model we can see some characteristics:\n",
    "\n",
    "1. When models are simple (as in this case), increasing the number of hidden layers are pointless since the model can understand the complexity without much problems\n",
    "\n",
    "\n",
    "2. Increasing the number of epochs can make the model learn better, but too high epoch can cause overfitting.\n",
    "\n",
    "\n",
    "3. Since multiple improvements can have great affect in improving neural networks it is important not to make too many changes at the time, as we can't know which change is effecting the model and which are not.\n",
    "\n",
    "## Evaluating the Model\n",
    "\n",
    "### Visualization"
   ]
  },
  {
   "cell_type": "code",
   "execution_count": 21,
   "id": "c60d7446",
   "metadata": {},
   "outputs": [
    {
     "data": {
      "text/plain": [
       "<tf.Tensor: shape=(50,), dtype=int32, numpy=\n",
       "array([-100,  -96,  -92,  -88,  -84,  -80,  -76,  -72,  -68,  -64,  -60,\n",
       "        -56,  -52,  -48,  -44,  -40,  -36,  -32,  -28,  -24,  -20,  -16,\n",
       "        -12,   -8,   -4,    0,    4,    8,   12,   16,   20,   24,   28,\n",
       "         32,   36,   40,   44,   48,   52,   56,   60,   64,   68,   72,\n",
       "         76,   80,   84,   88,   92,   96])>"
      ]
     },
     "execution_count": 21,
     "metadata": {},
     "output_type": "execute_result"
    }
   ],
   "source": [
    "long_x = tf.range(-100, 100, 4)\n",
    "long_y = long_x + 10\n",
    "long_x"
   ]
  },
  {
   "cell_type": "code",
   "execution_count": 22,
   "id": "e0f43c55",
   "metadata": {},
   "outputs": [
    {
     "data": {
      "text/plain": [
       "<tf.Tensor: shape=(50,), dtype=int32, numpy=\n",
       "array([-90, -86, -82, -78, -74, -70, -66, -62, -58, -54, -50, -46, -42,\n",
       "       -38, -34, -30, -26, -22, -18, -14, -10,  -6,  -2,   2,   6,  10,\n",
       "        14,  18,  22,  26,  30,  34,  38,  42,  46,  50,  54,  58,  62,\n",
       "        66,  70,  74,  78,  82,  86,  90,  94,  98, 102, 106])>"
      ]
     },
     "execution_count": 22,
     "metadata": {},
     "output_type": "execute_result"
    }
   ],
   "source": [
    "long_y"
   ]
  },
  {
   "cell_type": "code",
   "execution_count": 23,
   "id": "46eb1a23",
   "metadata": {},
   "outputs": [
    {
     "data": {
      "text/plain": [
       "[<matplotlib.lines.Line2D at 0x1a628bdd970>]"
      ]
     },
     "execution_count": 23,
     "metadata": {},
     "output_type": "execute_result"
    },
    {
     "data": {
      "image/png": "[encoded data removed]",
      "text/plain": [
       "<Figure size 432x288 with 1 Axes>"
      ]
     },
     "metadata": {
      "needs_background": "light"
     },
     "output_type": "display_data"
    }
   ],
   "source": [
    "plt.plot(long_x, long_y)"
   ]
  },
  {
   "attachments": {
    "image.png": {
     "image/png": "[encoded data removed]"
    }
   },
   "cell_type": "markdown",
   "id": "e277c3fc",
   "metadata": {},
   "source": [
    "## The 3 sets\n",
    "\n",
    "* **Training set** - Usually approx 70-80 % of the dataset\n",
    "\n",
    "* **Validation set** - Usually 10-15 % of the dataset\n",
    "\n",
    "* **Test set** - Usually 10-15 % of the dataset\n",
    "\n",
    "![image.png](attachment:image.png)\n",
    "\n",
    "\n",
    "Note that the validation set is separate from the rest of the datasets"
   ]
  },
  {
   "cell_type": "code",
   "execution_count": 24,
   "id": "bf415cbe",
   "metadata": {},
   "outputs": [],
   "source": [
    "x_train = long_x[:40]\n",
    "y_train = long_y[:40]\n",
    "\n",
    "x_test = long_x[40:]\n",
    "y_test = long_y[40:]"
   ]
  },
  {
   "cell_type": "code",
   "execution_count": 25,
   "id": "c798c4b1",
   "metadata": {},
   "outputs": [
    {
     "data": {
      "image/png": "[encoded data removed]",
      "text/plain": [
       "<Figure size 432x288 with 1 Axes>"
      ]
     },
     "metadata": {
      "needs_background": "light"
     },
     "output_type": "display_data"
    }
   ],
   "source": [
    "plt.scatter(x_train, y_train, c='b', label='Training Data')\n",
    "plt.scatter(x_test, y_test, c='g', label='Test data')\n",
    "plt.legend()\n",
    "plt.show()"
   ]
  },
  {
   "cell_type": "markdown",
   "id": "3c996bb9",
   "metadata": {},
   "source": [
    "### Model Summary"
   ]
  },
  {
   "cell_type": "code",
   "execution_count": 49,
   "id": "88f4cc36",
   "metadata": {},
   "outputs": [],
   "source": [
    "new_model = tf.keras.Sequential()\n",
    "new_model.add(tf.keras.layers.Dense(8, input_shape=(1,)))\n",
    "new_model.add(tf.keras.layers.Dense(1))\n",
    "\n",
    "new_model.compile(loss=tf.keras.losses.mse,\n",
    "              optimizer=tf.keras.optimizers.Adam(learning_rate=0.5),\n",
    "              metrics=['mse'])"
   ]
  },
  {
   "cell_type": "code",
   "execution_count": 50,
   "id": "56b5d4e7",
   "metadata": {},
   "outputs": [
    {
     "name": "stdout",
     "output_type": "stream",
     "text": [
      "Model: \"sequential_9\"\n",
      "_________________________________________________________________\n",
      " Layer (type)                Output Shape              Param #   \n",
      "=================================================================\n",
      " dense_20 (Dense)            (None, 8)                 16        \n",
      "                                                                 \n",
      " dense_21 (Dense)            (None, 1)                 9         \n",
      "                                                                 \n",
      "=================================================================\n",
      "Total params: 25\n",
      "Trainable params: 25\n",
      "Non-trainable params: 0\n",
      "_________________________________________________________________\n"
     ]
    }
   ],
   "source": [
    "new_model.summary()"
   ]
  },
  {
   "cell_type": "markdown",
   "id": "551aed74",
   "metadata": {},
   "source": [
    "* Total params - Total number of parameters in the model.\n",
    "* Trainable params - These are the parameters the model can update as it trains.\n",
    "* Non-trainable params - These parameters aren't updated during training (this is typical when you bring in already learn patterns or parameters from other models during **transfer learning**)\n",
    "\n",
    "https://deeplizard.com/learn/video/8d-9SnGt5E0\n",
    "\n",
    "https://www.baeldung.com/cs/non-trainable-parameter#:~:text=Non%2Dtrainable%20parameters%20are%20model,the%20model%20is%20being%20used."
   ]
  },
  {
   "cell_type": "code",
   "execution_count": 51,
   "id": "55497b9e",
   "metadata": {
    "scrolled": true
   },
   "outputs": [
    {
     "data": {
      "text/plain": [
       "<keras.callbacks.History at 0x1a62a1befd0>"
      ]
     },
     "execution_count": 51,
     "metadata": {},
     "output_type": "execute_result"
    }
   ],
   "source": [
    "new_model.fit(tf.expand_dims(x_train, axis=-1), y_train, epochs=100, verbose=0)"
   ]
  },
  {
   "cell_type": "code",
   "execution_count": 52,
   "id": "e3ab4ffb",
   "metadata": {},
   "outputs": [
    {
     "data": {
      "text/plain": [
       "<tf.Tensor: shape=(10,), dtype=float32, numpy=\n",
       "array([ 70.00713 ,  74.00757 ,  78.00801 ,  82.00845 ,  86.008896,\n",
       "        90.00933 ,  94.00976 ,  98.0102  , 102.01064 , 106.01107 ],\n",
       "      dtype=float32)>"
      ]
     },
     "execution_count": 52,
     "metadata": {},
     "output_type": "execute_result"
    }
   ],
   "source": [
    "y_pred = tf.squeeze(new_model.predict(x_test))\n",
    "y_pred"
   ]
  },
  {
   "cell_type": "code",
   "execution_count": 53,
   "id": "74b6814b",
   "metadata": {},
   "outputs": [
    {
     "data": {
      "text/plain": [
       "<tf.Tensor: shape=(10,), dtype=int32, numpy=array([ 70,  74,  78,  82,  86,  90,  94,  98, 102, 106])>"
      ]
     },
     "execution_count": 53,
     "metadata": {},
     "output_type": "execute_result"
    }
   ],
   "source": [
    "y_test"
   ]
  },
  {
   "cell_type": "code",
   "execution_count": 55,
   "id": "8f599f6f",
   "metadata": {},
   "outputs": [
    {
     "data": {
      "image/png": "[encoded data removed]",
      "text/plain": [
       "<Figure size 432x288 with 1 Axes>"
      ]
     },
     "metadata": {
      "needs_background": "light"
     },
     "output_type": "display_data"
    }
   ],
   "source": [
    "plt.scatter(x_train, y_train, c='b', label='Training data')\n",
    "plt.scatter(x_test, y_test, c='g', label='Actual output')\n",
    "plt.scatter(x_test, y_pred, c='r', label='Predicted output')\n",
    "plt.legend()\n",
    "plt.show()"
   ]
  },
  {
   "cell_type": "code",
   "execution_count": 59,
   "id": "51553029",
   "metadata": {},
   "outputs": [
    {
     "data": {
      "text/plain": [
       "<tf.Tensor: shape=(), dtype=float32, numpy=8.450922e-05>"
      ]
     },
     "execution_count": 59,
     "metadata": {},
     "output_type": "execute_result"
    }
   ],
   "source": [
    "tf.metrics.mean_squared_error(y_true=y_test,\n",
    "                              y_pred=y_pred)"
   ]
  },
  {
   "cell_type": "code",
   "execution_count": 60,
   "id": "38f23e7a",
   "metadata": {},
   "outputs": [
    {
     "data": {
      "text/plain": [
       "<tf.Tensor: shape=(), dtype=float32, numpy=0.009106445>"
      ]
     },
     "execution_count": 60,
     "metadata": {},
     "output_type": "execute_result"
    }
   ],
   "source": [
    "tf.metrics.mean_absolute_error(y_true=y_test,\n",
    "                               y_pred=y_pred)"
   ]
  },
  {
   "cell_type": "markdown",
   "id": "90bcc5f7",
   "metadata": {},
   "source": [
    "### Visualizing the model"
   ]
  },
  {
   "cell_type": "code",
   "execution_count": 32,
   "id": "c3b473e2",
   "metadata": {},
   "outputs": [],
   "source": [
    "from tensorflow.keras.utils import plot_model"
   ]
  },
  {
   "cell_type": "code",
   "execution_count": 33,
   "id": "45a31e8d",
   "metadata": {},
   "outputs": [
    {
     "name": "stdout",
     "output_type": "stream",
     "text": [
      "You must install pydot (`pip install pydot`) and install graphviz (see instructions at https://graphviz.gitlab.io/download/) for plot_model/model_to_dot to work.\n"
     ]
    }
   ],
   "source": [
    "plot_model(model=new_model, show_shapes=True)"
   ]
  },
  {
   "cell_type": "markdown",
   "id": "a102803f",
   "metadata": {},
   "source": [
    "## Saving and Loading TensorFlow Models\n",
    "\n",
    "https://www.tensorflow.org/tutorials/keras/save_and_load\n",
    "\n",
    "1. SavedModel format - The SavedModel format is another way to serialize models. Models saved in this format can be restored using `tf.keras.models.load_model` and are compatible with TensorFlow Serving. The SavedModel guide goes into detail about how to serve/inspect the SavedModel.\n",
    "\n",
    "2. HDF5 format - Keras provides a basic save format using HDF5 standard."
   ]
  },
  {
   "cell_type": "code",
   "execution_count": 61,
   "id": "71b052ca",
   "metadata": {},
   "outputs": [
    {
     "name": "stdout",
     "output_type": "stream",
     "text": [
      "INFO:tensorflow:Assets written to: best_model_SavedModel\\assets\n"
     ]
    }
   ],
   "source": [
    "# Save model using SavedModel format\n",
    "new_model.save('best_model_SavedModel')"
   ]
  },
  {
   "cell_type": "code",
   "execution_count": 62,
   "id": "43a252a3",
   "metadata": {},
   "outputs": [],
   "source": [
    "# Save model using HDF5 format\n",
    "new_model.save('best_model_HDF5.h5')"
   ]
  },
  {
   "cell_type": "code",
   "execution_count": 63,
   "id": "f08e8a9b",
   "metadata": {},
   "outputs": [
    {
     "name": "stdout",
     "output_type": "stream",
     "text": [
      "Model: \"sequential_9\"\n",
      "_________________________________________________________________\n",
      " Layer (type)                Output Shape              Param #   \n",
      "=================================================================\n",
      " dense_20 (Dense)            (None, 8)                 16        \n",
      "                                                                 \n",
      " dense_21 (Dense)            (None, 1)                 9         \n",
      "                                                                 \n",
      "=================================================================\n",
      "Total params: 25\n",
      "Trainable params: 25\n",
      "Non-trainable params: 0\n",
      "_________________________________________________________________\n"
     ]
    }
   ],
   "source": [
    "# Loading in a SavedModel-model\n",
    "savedModel_model = tf.keras.models.load_model(\"best_model_SavedModel\")\n",
    "savedModel_model.summary()"
   ]
  },
  {
   "cell_type": "code",
   "execution_count": 70,
   "id": "2f028696",
   "metadata": {},
   "outputs": [
    {
     "data": {
      "text/plain": [
       "<tf.Tensor: shape=(10,), dtype=float32, numpy=\n",
       "array([ 70.00713 ,  74.00757 ,  78.00801 ,  82.00845 ,  86.008896,\n",
       "        90.00933 ,  94.00976 ,  98.0102  , 102.01064 , 106.01107 ],\n",
       "      dtype=float32)>"
      ]
     },
     "execution_count": 70,
     "metadata": {},
     "output_type": "execute_result"
    }
   ],
   "source": [
    "savedModel_preds = tf.squeeze(savedModel_model.predict(x_test))\n",
    "savedModel_preds"
   ]
  },
  {
   "cell_type": "code",
   "execution_count": 72,
   "id": "bd0d74e8",
   "metadata": {},
   "outputs": [
    {
     "data": {
      "text/plain": [
       "<tf.Tensor: shape=(10,), dtype=bool, numpy=\n",
       "array([ True,  True,  True,  True,  True,  True,  True,  True,  True,\n",
       "        True])>"
      ]
     },
     "execution_count": 72,
     "metadata": {},
     "output_type": "execute_result"
    }
   ],
   "source": [
    "savedModel_preds == y_pred"
   ]
  },
  {
   "cell_type": "markdown",
   "id": "eea104b3",
   "metadata": {},
   "source": [
    "Totally similar data"
   ]
  },
  {
   "cell_type": "code",
   "execution_count": 64,
   "id": "cc4db738",
   "metadata": {},
   "outputs": [
    {
     "name": "stdout",
     "output_type": "stream",
     "text": [
      "Model: \"sequential_9\"\n",
      "_________________________________________________________________\n",
      " Layer (type)                Output Shape              Param #   \n",
      "=================================================================\n",
      " dense_20 (Dense)            (None, 8)                 16        \n",
      "                                                                 \n",
      " dense_21 (Dense)            (None, 1)                 9         \n",
      "                                                                 \n",
      "=================================================================\n",
      "Total params: 25\n",
      "Trainable params: 25\n",
      "Non-trainable params: 0\n",
      "_________________________________________________________________\n"
     ]
    }
   ],
   "source": [
    "# Loading in the HDF5 model\n",
    "hdf5_model = tf.keras.models.load_model('best_model_HDF5.h5')\n",
    "hdf5_model.summary()"
   ]
  },
  {
   "cell_type": "code",
   "execution_count": 73,
   "id": "45d0e59c",
   "metadata": {},
   "outputs": [
    {
     "data": {
      "text/plain": [
       "<tf.Tensor: shape=(10,), dtype=float32, numpy=\n",
       "array([ 70.00713 ,  74.00757 ,  78.00801 ,  82.00845 ,  86.008896,\n",
       "        90.00933 ,  94.00976 ,  98.0102  , 102.01064 , 106.01107 ],\n",
       "      dtype=float32)>"
      ]
     },
     "execution_count": 73,
     "metadata": {},
     "output_type": "execute_result"
    }
   ],
   "source": [
    "hdf5_preds = tf.squeeze(hdf5_model.predict(x_test))\n",
    "hdf5_preds"
   ]
  },
  {
   "cell_type": "code",
   "execution_count": 74,
   "id": "4642be4a",
   "metadata": {},
   "outputs": [
    {
     "data": {
      "text/plain": [
       "<tf.Tensor: shape=(10,), dtype=bool, numpy=\n",
       "array([ True,  True,  True,  True,  True,  True,  True,  True,  True,\n",
       "        True])>"
      ]
     },
     "execution_count": 74,
     "metadata": {},
     "output_type": "execute_result"
    }
   ],
   "source": [
    "hdf5_preds == y_pred"
   ]
  },
  {
   "cell_type": "markdown",
   "id": "c7be55f4",
   "metadata": {},
   "source": [
    "# Working with a complex dataset"
   ]
  },
  {
   "cell_type": "code",
   "execution_count": 75,
   "id": "332d2540",
   "metadata": {},
   "outputs": [
    {
     "data": {
      "text/html": [
       "<div>\n",
       "<style scoped>\n",
       "    .dataframe tbody tr th:only-of-type {\n",
       "        vertical-align: middle;\n",
       "    }\n",
       "\n",
       "    .dataframe tbody tr th {\n",
       "        vertical-align: top;\n",
       "    }\n",
       "\n",
       "    .dataframe thead th {\n",
       "        text-align: right;\n",
       "    }\n",
       "</style>\n",
       "<table border=\"1\" class=\"dataframe\">\n",
       "  <thead>\n",
       "    <tr style=\"text-align: right;\">\n",
       "      <th></th>\n",
       "      <th>age</th>\n",
       "      <th>sex</th>\n",
       "      <th>bmi</th>\n",
       "      <th>children</th>\n",
       "      <th>smoker</th>\n",
       "      <th>region</th>\n",
       "      <th>charges</th>\n",
       "    </tr>\n",
       "  </thead>\n",
       "  <tbody>\n",
       "    <tr>\n",
       "      <th>0</th>\n",
       "      <td>19</td>\n",
       "      <td>female</td>\n",
       "      <td>27.900</td>\n",
       "      <td>0</td>\n",
       "      <td>yes</td>\n",
       "      <td>southwest</td>\n",
       "      <td>16884.92400</td>\n",
       "    </tr>\n",
       "    <tr>\n",
       "      <th>1</th>\n",
       "      <td>18</td>\n",
       "      <td>male</td>\n",
       "      <td>33.770</td>\n",
       "      <td>1</td>\n",
       "      <td>no</td>\n",
       "      <td>southeast</td>\n",
       "      <td>1725.55230</td>\n",
       "    </tr>\n",
       "    <tr>\n",
       "      <th>2</th>\n",
       "      <td>28</td>\n",
       "      <td>male</td>\n",
       "      <td>33.000</td>\n",
       "      <td>3</td>\n",
       "      <td>no</td>\n",
       "      <td>southeast</td>\n",
       "      <td>4449.46200</td>\n",
       "    </tr>\n",
       "    <tr>\n",
       "      <th>3</th>\n",
       "      <td>33</td>\n",
       "      <td>male</td>\n",
       "      <td>22.705</td>\n",
       "      <td>0</td>\n",
       "      <td>no</td>\n",
       "      <td>northwest</td>\n",
       "      <td>21984.47061</td>\n",
       "    </tr>\n",
       "    <tr>\n",
       "      <th>4</th>\n",
       "      <td>32</td>\n",
       "      <td>male</td>\n",
       "      <td>28.880</td>\n",
       "      <td>0</td>\n",
       "      <td>no</td>\n",
       "      <td>northwest</td>\n",
       "      <td>3866.85520</td>\n",
       "    </tr>\n",
       "    <tr>\n",
       "      <th>...</th>\n",
       "      <td>...</td>\n",
       "      <td>...</td>\n",
       "      <td>...</td>\n",
       "      <td>...</td>\n",
       "      <td>...</td>\n",
       "      <td>...</td>\n",
       "      <td>...</td>\n",
       "    </tr>\n",
       "    <tr>\n",
       "      <th>1333</th>\n",
       "      <td>50</td>\n",
       "      <td>male</td>\n",
       "      <td>30.970</td>\n",
       "      <td>3</td>\n",
       "      <td>no</td>\n",
       "      <td>northwest</td>\n",
       "      <td>10600.54830</td>\n",
       "    </tr>\n",
       "    <tr>\n",
       "      <th>1334</th>\n",
       "      <td>18</td>\n",
       "      <td>female</td>\n",
       "      <td>31.920</td>\n",
       "      <td>0</td>\n",
       "      <td>no</td>\n",
       "      <td>northeast</td>\n",
       "      <td>2205.98080</td>\n",
       "    </tr>\n",
       "    <tr>\n",
       "      <th>1335</th>\n",
       "      <td>18</td>\n",
       "      <td>female</td>\n",
       "      <td>36.850</td>\n",
       "      <td>0</td>\n",
       "      <td>no</td>\n",
       "      <td>southeast</td>\n",
       "      <td>1629.83350</td>\n",
       "    </tr>\n",
       "    <tr>\n",
       "      <th>1336</th>\n",
       "      <td>21</td>\n",
       "      <td>female</td>\n",
       "      <td>25.800</td>\n",
       "      <td>0</td>\n",
       "      <td>no</td>\n",
       "      <td>southwest</td>\n",
       "      <td>2007.94500</td>\n",
       "    </tr>\n",
       "    <tr>\n",
       "      <th>1337</th>\n",
       "      <td>61</td>\n",
       "      <td>female</td>\n",
       "      <td>29.070</td>\n",
       "      <td>0</td>\n",
       "      <td>yes</td>\n",
       "      <td>northwest</td>\n",
       "      <td>29141.36030</td>\n",
       "    </tr>\n",
       "  </tbody>\n",
       "</table>\n",
       "<p>1338 rows × 7 columns</p>\n",
       "</div>"
      ],
      "text/plain": [
       "      age     sex     bmi  children smoker     region      charges\n",
       "0      19  female  27.900         0    yes  southwest  16884.92400\n",
       "1      18    male  33.770         1     no  southeast   1725.55230\n",
       "2      28    male  33.000         3     no  southeast   4449.46200\n",
       "3      33    male  22.705         0     no  northwest  21984.47061\n",
       "4      32    male  28.880         0     no  northwest   3866.85520\n",
       "...   ...     ...     ...       ...    ...        ...          ...\n",
       "1333   50    male  30.970         3     no  northwest  10600.54830\n",
       "1334   18  female  31.920         0     no  northeast   2205.98080\n",
       "1335   18  female  36.850         0     no  southeast   1629.83350\n",
       "1336   21  female  25.800         0     no  southwest   2007.94500\n",
       "1337   61  female  29.070         0    yes  northwest  29141.36030\n",
       "\n",
       "[1338 rows x 7 columns]"
      ]
     },
     "execution_count": 75,
     "metadata": {},
     "output_type": "execute_result"
    }
   ],
   "source": [
    "insurance = pd.read_csv('https://raw.githubusercontent.com/stedy/Machine-Learning-with-R-datasets/master/insurance.csv')\n",
    "insurance"
   ]
  },
  {
   "cell_type": "markdown",
   "id": "c2f32ece",
   "metadata": {},
   "source": [
    "Label = Charges\\\n",
    "Features = Every other column"
   ]
  },
  {
   "cell_type": "code",
   "execution_count": 143,
   "id": "1ef8e493",
   "metadata": {},
   "outputs": [],
   "source": [
    "from sklearn.model_selection import train_test_split\n",
    "from sklearn.compose import make_column_transformer\n",
    "from sklearn.preprocessing import MinMaxScaler, OneHotEncoder"
   ]
  },
  {
   "cell_type": "code",
   "execution_count": 157,
   "id": "0c44fb05",
   "metadata": {},
   "outputs": [],
   "source": [
    "x_data = insurance.drop('charges', axis=1)\n",
    "y_data = insurance['charges']\n",
    "\n",
    "x_train, x_test, y_train, y_test = train_test_split(x_data, y_data, test_size=0.3, random_state=8, shuffle=True)\n",
    "\n",
    "ct = make_column_transformer(\n",
    "        (MinMaxScaler(), ['age', 'bmi', 'children']),\n",
    "        (OneHotEncoder(handle_unknown='ignore'), ['sex', 'smoker', 'region']))\n",
    "\n",
    "ct.fit(x_train)\n",
    "x_train_normal = ct.transform(x_train)\n",
    "\n",
    "ct.fit(x_test)\n",
    "x_test_normal = ct.transform(x_test)\n",
    "\n",
    "x_train = tf.constant(x_train_normal)\n",
    "x_test = tf.constant(x_test_normal)\n",
    "y_train = tf.constant(y_train)\n",
    "y_test = tf.constant(y_test)"
   ]
  },
  {
   "cell_type": "code",
   "execution_count": 170,
   "id": "19a45ae7",
   "metadata": {},
   "outputs": [
    {
     "name": "stdout",
     "output_type": "stream",
     "text": [
      "Epoch 1/10\n",
      "30/30 [==============================] - 0s 631us/step - loss: 8697.0635 - mae: 8697.0635\n",
      "Epoch 2/10\n",
      "30/30 [==============================] - 0s 667us/step - loss: 4212.8008 - mae: 4212.8008\n",
      "Epoch 3/10\n",
      "30/30 [==============================] - 0s 682us/step - loss: 3707.1042 - mae: 3707.1042\n",
      "Epoch 4/10\n",
      "30/30 [==============================] - 0s 698us/step - loss: 3968.4441 - mae: 3968.4441\n",
      "Epoch 5/10\n",
      "30/30 [==============================] - 0s 706us/step - loss: 4421.3198 - mae: 4421.3198\n",
      "Epoch 6/10\n",
      "30/30 [==============================] - 0s 703us/step - loss: 3947.7476 - mae: 3947.7476\n",
      "Epoch 7/10\n",
      "30/30 [==============================] - 0s 687us/step - loss: 3579.9595 - mae: 3579.9595\n",
      "Epoch 8/10\n",
      "30/30 [==============================] - 0s 715us/step - loss: 3755.6619 - mae: 3755.6619\n",
      "Epoch 9/10\n",
      "30/30 [==============================] - 0s 776us/step - loss: 3567.0115 - mae: 3567.0115\n",
      "Epoch 10/10\n",
      "30/30 [==============================] - 0s 719us/step - loss: 3510.8369 - mae: 3510.8369\n"
     ]
    }
   ],
   "source": [
    "complex_model = tf.keras.Sequential()\n",
    "complex_model.add(tf.keras.layers.Dense(100))\n",
    "complex_model.add(tf.keras.layers.Dense(10))\n",
    "complex_model.add(tf.keras.layers.Dense(10))\n",
    "complex_model.add(tf.keras.layers.Dense(1))\n",
    "\n",
    "complex_model.compile(loss=tf.keras.losses.mae,\n",
    "                      optimizer=tf.keras.optimizers.Adam(learning_rate=0.1),\n",
    "                      metrics=['mae'])\n",
    "\n",
    "history = complex_model.fit(x_train, y_train, epochs=10)"
   ]
  },
  {
   "cell_type": "code",
   "execution_count": 171,
   "id": "b98fc711",
   "metadata": {},
   "outputs": [],
   "source": [
    "y_pred = tf.squeeze(complex_model.predict(x_test))"
   ]
  },
  {
   "cell_type": "code",
   "execution_count": 172,
   "id": "351a3f4f",
   "metadata": {},
   "outputs": [
    {
     "name": "stdout",
     "output_type": "stream",
     "text": [
      "13/13 [==============================] - 0s 680us/step - loss: 3613.0479 - mae: 3613.0479\n"
     ]
    },
    {
     "data": {
      "text/plain": [
       "[3613.0478515625, 3613.0478515625]"
      ]
     },
     "execution_count": 172,
     "metadata": {},
     "output_type": "execute_result"
    }
   ],
   "source": [
    "complex_model.evaluate(x_test, y_test)"
   ]
  },
  {
   "cell_type": "code",
   "execution_count": 173,
   "id": "d701d5f5",
   "metadata": {},
   "outputs": [
    {
     "data": {
      "text/plain": [
       "Text(0, 0.5, 'loss')"
      ]
     },
     "execution_count": 173,
     "metadata": {},
     "output_type": "execute_result"
    },
    {
     "data": {
      "image/png": "[encoded data removed]",
      "text/plain": [
       "<Figure size 432x288 with 1 Axes>"
      ]
     },
     "metadata": {
      "needs_background": "light"
     },
     "output_type": "display_data"
    }
   ],
   "source": [
    "pd.DataFrame(history.history).plot()\n",
    "plt.xlabel('epochs')\n",
    "plt.ylabel('loss')"
   ]
  }
 ],
 "metadata": {
  "kernelspec": {
   "display_name": "Python 3 (ipykernel)",
   "language": "python",
   "name": "python3"
  },
  "language_info": {
   "codemirror_mode": {
    "name": "ipython",
    "version": 3
   },
   "file_extension": ".py",
   "mimetype": "text/x-python",
   "name": "python",
   "nbconvert_exporter": "python",
   "pygments_lexer": "ipython3",
   "version": "3.9.7"
  }
 },
 "nbformat": 4,
 "nbformat_minor": 5
}
